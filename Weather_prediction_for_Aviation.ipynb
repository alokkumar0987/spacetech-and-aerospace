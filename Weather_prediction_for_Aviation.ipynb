{
 "cells": [
  {
   "cell_type": "markdown",
   "id": "a86f5010-71ea-4f73-b7bc-4deef14ef2a1",
   "metadata": {},
   "source": [
    "#### ERA5 Hourly Data on Single Levels—is part of the Copernicus Climate Data Store (CDS)\n",
    "Dataset from 1966 to present(2025-4-28)"
   ]
  },
  {
   "cell_type": "code",
   "execution_count": 2,
   "id": "5223553e-70b1-4767-8b21-616e284ea3e2",
   "metadata": {},
   "outputs": [
    {
     "name": "stdout",
     "output_type": "stream",
     "text": [
      "File Name                                             Modified             Size\n",
      "reanalysis-era5-single-levels-timeseries-sfcs9bbofln.csv 2025-04-27 09:57:46     56944164\n",
      "reanalysis-era5-single-levels-timeseries-wavzidyd6jj.csv 2025-04-27 09:57:50     29608120\n"
     ]
    }
   ],
   "source": [
    "import zipfile\n",
    "\n",
    "# Path to your zip file\n",
    "zip_file_path = 'dataset_weather.zip'\n",
    "\n",
    "# Open the zip file\n",
    "with zipfile.ZipFile(zip_file_path, 'r') as zip_ref:\n",
    "    # List all files inside the zip\n",
    "    zip_ref.printdir()\n",
    "    \n",
    "    # Extract all contents to a directory\n",
    "    zip_ref.extractall('extracted_folder')"
   ]
  },
  {
   "cell_type": "markdown",
   "id": "80efc1d1-8479-45ee-95cb-0e595859ff41",
   "metadata": {},
   "source": [
    "## Code to read both csv files"
   ]
  },
  {
   "cell_type": "code",
   "execution_count": 4,
   "id": "e22f9771-1f5e-478c-bcfc-8ea0fd247d23",
   "metadata": {},
   "outputs": [
    {
     "name": "stdout",
     "output_type": "stream",
     "text": [
      "DataFrame 1:\n",
      "            valid_time       u10       v10        d2m        t2m         msl  \\\n",
      "0  1966-01-08 00:00:00  0.167664  4.068848  295.96410  298.87402  101169.690   \n",
      "1  1966-01-08 01:00:00  0.324326  4.016586  295.96080  298.74690  101088.375   \n",
      "2  1966-01-08 02:00:00  0.384232  3.952469  295.99136  298.55120  101022.690   \n",
      "3  1966-01-08 03:00:00  0.368317  4.033676  295.95123  298.47656  100992.440   \n",
      "4  1966-01-08 04:00:00  0.301758  4.101944  296.04437  298.32910  100937.375   \n",
      "\n",
      "         sst          sp        tp  latitude  longitude  \n",
      "0  300.06665  101165.734  0.000059       0.0        0.0  \n",
      "1  300.06665  101083.440  0.000048       0.0        0.0  \n",
      "2  300.06665  101018.470  0.000119       0.0        0.0  \n",
      "3  300.06665  100987.984  0.000162       0.0        0.0  \n",
      "4  300.06665  100932.700  0.000101       0.0        0.0  \n",
      "\n",
      "DataFrame 2:\n",
      "            valid_time        mwd       mwp       swh  latitude  longitude\n",
      "0  1966-01-08 00:00:00  183.29135  6.593778  1.009988       0.0        0.0\n",
      "1  1966-01-08 01:00:00  183.37257  6.633514  1.000220       0.0        0.0\n",
      "2  1966-01-08 02:00:00  183.45078  6.667019  0.990966       0.0        0.0\n",
      "3  1966-01-08 03:00:00  183.51556  6.688365  0.982832       0.0        0.0\n",
      "4  1966-01-08 04:00:00  183.54956  6.702400  0.975484       0.0        0.0\n"
     ]
    }
   ],
   "source": [
    "import pandas as pd\n",
    "import zipfile\n",
    "\n",
    "# Path to your zip file\n",
    "zip_file_path = 'dataset_weather.zip'\n",
    "\n",
    "# Read both CSV files inside the zip\n",
    "with zipfile.ZipFile(zip_file_path, 'r') as zip_ref:\n",
    "    # Read the first CSV file\n",
    "    with zip_ref.open('reanalysis-era5-single-levels-timeseries-sfcs9bbofln.csv') as file1:\n",
    "        df1 = pd.read_csv(file1)\n",
    "    \n",
    "    # Read the second CSV file\n",
    "    with zip_ref.open('reanalysis-era5-single-levels-timeseries-wavzidyd6jj.csv') as file2:\n",
    "        df2 = pd.read_csv(file2)\n",
    "\n",
    "# Display first few rows of both dataframes\n",
    "print(\"DataFrame 1:\")\n",
    "print(df1.head())\n",
    "\n",
    "print(\"\\nDataFrame 2:\")\n",
    "print(df2.head())"
   ]
  },
  {
   "cell_type": "markdown",
   "id": "86f28da8-a9ad-4e6a-9750-27dfca74ce20",
   "metadata": {},
   "source": [
    "## Analysis of DataFrames:\n",
    "\n",
    "DataFrame 1:\n",
    "\n",
    "This dataset contains weather-related variables, including:\n",
    "\n",
    "valid_time: The timestamp for each observation (hourly data).\n",
    "\n",
    "u10 and v10: Wind components (u and v) at 10 meters above the surface, representing wind speed in the east-west and north-south directions, respectively.\n",
    "\n",
    "d2m: Dew point temperature in Kelvin.\n",
    "\n",
    "t2m: Temperature at 2 meters above the surface in Kelvin.\n",
    "\n",
    "msl: Mean sea level pressure in Pascals.\n",
    "\n",
    "sst: Sea surface temperature in Kelvin.\n",
    "\n",
    "sp: Surface pressure in Pascals.\n",
    "\n",
    "tp: Total precipitation in millimeters.\n",
    "\n",
    "latitude and longitude: Geographical location of the observation (both are 0.0 in the data, which may indicate missing values or placeholder values).\n",
    "\n",
    "\n",
    "DataFrame 2:\n",
    "\n",
    "This dataset contains wave-related data:\n",
    "\n",
    "valid_time: The timestamp for each observation (hourly data).\n",
    "\n",
    "mwd: Mean wave direction in degrees.\n",
    "\n",
    "mwp: Mean wave period in seconds.\n",
    "\n",
    "swh: Significant wave height in meters.\n",
    "\n",
    "latitude and longitude: Geographical location of the observation (again, both are 0.0 in the data, which likely indicates missing or placeholder values)."
   ]
  },
  {
   "cell_type": "markdown",
   "id": "e3a4820e-d99c-4801-b360-af3668247a7c",
   "metadata": {},
   "source": [
    "## Merging the DataFrames"
   ]
  },
  {
   "cell_type": "code",
   "execution_count": 5,
   "id": "285afd23-9385-4eb4-9c45-811669f8c337",
   "metadata": {},
   "outputs": [],
   "source": [
    "merged_df = pd.merge(df1, df2, on='valid_time', how='inner')"
   ]
  },
  {
   "cell_type": "code",
   "execution_count": 6,
   "id": "2dea7193-287f-455a-a74b-2a6ef99e62b4",
   "metadata": {},
   "outputs": [
    {
     "data": {
      "text/html": [
       "<div>\n",
       "<style scoped>\n",
       "    .dataframe tbody tr th:only-of-type {\n",
       "        vertical-align: middle;\n",
       "    }\n",
       "\n",
       "    .dataframe tbody tr th {\n",
       "        vertical-align: top;\n",
       "    }\n",
       "\n",
       "    .dataframe thead th {\n",
       "        text-align: right;\n",
       "    }\n",
       "</style>\n",
       "<table border=\"1\" class=\"dataframe\">\n",
       "  <thead>\n",
       "    <tr style=\"text-align: right;\">\n",
       "      <th></th>\n",
       "      <th>valid_time</th>\n",
       "      <th>u10</th>\n",
       "      <th>v10</th>\n",
       "      <th>d2m</th>\n",
       "      <th>t2m</th>\n",
       "      <th>msl</th>\n",
       "      <th>sst</th>\n",
       "      <th>sp</th>\n",
       "      <th>tp</th>\n",
       "      <th>latitude_x</th>\n",
       "      <th>longitude_x</th>\n",
       "      <th>mwd</th>\n",
       "      <th>mwp</th>\n",
       "      <th>swh</th>\n",
       "      <th>latitude_y</th>\n",
       "      <th>longitude_y</th>\n",
       "    </tr>\n",
       "  </thead>\n",
       "  <tbody>\n",
       "    <tr>\n",
       "      <th>0</th>\n",
       "      <td>1966-01-08 00:00:00</td>\n",
       "      <td>0.167664</td>\n",
       "      <td>4.068848</td>\n",
       "      <td>295.96410</td>\n",
       "      <td>298.87402</td>\n",
       "      <td>101169.690</td>\n",
       "      <td>300.06665</td>\n",
       "      <td>101165.734</td>\n",
       "      <td>0.000059</td>\n",
       "      <td>0.0</td>\n",
       "      <td>0.0</td>\n",
       "      <td>183.29135</td>\n",
       "      <td>6.593778</td>\n",
       "      <td>1.009988</td>\n",
       "      <td>0.0</td>\n",
       "      <td>0.0</td>\n",
       "    </tr>\n",
       "    <tr>\n",
       "      <th>1</th>\n",
       "      <td>1966-01-08 01:00:00</td>\n",
       "      <td>0.324326</td>\n",
       "      <td>4.016586</td>\n",
       "      <td>295.96080</td>\n",
       "      <td>298.74690</td>\n",
       "      <td>101088.375</td>\n",
       "      <td>300.06665</td>\n",
       "      <td>101083.440</td>\n",
       "      <td>0.000048</td>\n",
       "      <td>0.0</td>\n",
       "      <td>0.0</td>\n",
       "      <td>183.37257</td>\n",
       "      <td>6.633514</td>\n",
       "      <td>1.000220</td>\n",
       "      <td>0.0</td>\n",
       "      <td>0.0</td>\n",
       "    </tr>\n",
       "    <tr>\n",
       "      <th>2</th>\n",
       "      <td>1966-01-08 02:00:00</td>\n",
       "      <td>0.384232</td>\n",
       "      <td>3.952469</td>\n",
       "      <td>295.99136</td>\n",
       "      <td>298.55120</td>\n",
       "      <td>101022.690</td>\n",
       "      <td>300.06665</td>\n",
       "      <td>101018.470</td>\n",
       "      <td>0.000119</td>\n",
       "      <td>0.0</td>\n",
       "      <td>0.0</td>\n",
       "      <td>183.45078</td>\n",
       "      <td>6.667019</td>\n",
       "      <td>0.990966</td>\n",
       "      <td>0.0</td>\n",
       "      <td>0.0</td>\n",
       "    </tr>\n",
       "    <tr>\n",
       "      <th>3</th>\n",
       "      <td>1966-01-08 03:00:00</td>\n",
       "      <td>0.368317</td>\n",
       "      <td>4.033676</td>\n",
       "      <td>295.95123</td>\n",
       "      <td>298.47656</td>\n",
       "      <td>100992.440</td>\n",
       "      <td>300.06665</td>\n",
       "      <td>100987.984</td>\n",
       "      <td>0.000162</td>\n",
       "      <td>0.0</td>\n",
       "      <td>0.0</td>\n",
       "      <td>183.51556</td>\n",
       "      <td>6.688365</td>\n",
       "      <td>0.982832</td>\n",
       "      <td>0.0</td>\n",
       "      <td>0.0</td>\n",
       "    </tr>\n",
       "    <tr>\n",
       "      <th>4</th>\n",
       "      <td>1966-01-08 04:00:00</td>\n",
       "      <td>0.301758</td>\n",
       "      <td>4.101944</td>\n",
       "      <td>296.04437</td>\n",
       "      <td>298.32910</td>\n",
       "      <td>100937.375</td>\n",
       "      <td>300.06665</td>\n",
       "      <td>100932.700</td>\n",
       "      <td>0.000101</td>\n",
       "      <td>0.0</td>\n",
       "      <td>0.0</td>\n",
       "      <td>183.54956</td>\n",
       "      <td>6.702400</td>\n",
       "      <td>0.975484</td>\n",
       "      <td>0.0</td>\n",
       "      <td>0.0</td>\n",
       "    </tr>\n",
       "    <tr>\n",
       "      <th>...</th>\n",
       "      <td>...</td>\n",
       "      <td>...</td>\n",
       "      <td>...</td>\n",
       "      <td>...</td>\n",
       "      <td>...</td>\n",
       "      <td>...</td>\n",
       "      <td>...</td>\n",
       "      <td>...</td>\n",
       "      <td>...</td>\n",
       "      <td>...</td>\n",
       "      <td>...</td>\n",
       "      <td>...</td>\n",
       "      <td>...</td>\n",
       "      <td>...</td>\n",
       "      <td>...</td>\n",
       "      <td>...</td>\n",
       "    </tr>\n",
       "    <tr>\n",
       "      <th>519715</th>\n",
       "      <td>2025-04-22 19:00:00</td>\n",
       "      <td>-1.667984</td>\n",
       "      <td>5.356354</td>\n",
       "      <td>298.04170</td>\n",
       "      <td>300.72876</td>\n",
       "      <td>100928.250</td>\n",
       "      <td>302.93115</td>\n",
       "      <td>100923.220</td>\n",
       "      <td>0.000161</td>\n",
       "      <td>0.0</td>\n",
       "      <td>0.0</td>\n",
       "      <td>177.27835</td>\n",
       "      <td>7.623084</td>\n",
       "      <td>1.328383</td>\n",
       "      <td>0.0</td>\n",
       "      <td>0.0</td>\n",
       "    </tr>\n",
       "    <tr>\n",
       "      <th>519716</th>\n",
       "      <td>2025-04-22 20:00:00</td>\n",
       "      <td>-2.862824</td>\n",
       "      <td>4.800339</td>\n",
       "      <td>298.13013</td>\n",
       "      <td>300.41824</td>\n",
       "      <td>101024.310</td>\n",
       "      <td>302.93115</td>\n",
       "      <td>101019.260</td>\n",
       "      <td>0.000147</td>\n",
       "      <td>0.0</td>\n",
       "      <td>0.0</td>\n",
       "      <td>176.92206</td>\n",
       "      <td>7.572200</td>\n",
       "      <td>1.326519</td>\n",
       "      <td>0.0</td>\n",
       "      <td>0.0</td>\n",
       "    </tr>\n",
       "    <tr>\n",
       "      <th>519717</th>\n",
       "      <td>2025-04-22 21:00:00</td>\n",
       "      <td>-3.478989</td>\n",
       "      <td>4.612839</td>\n",
       "      <td>298.29230</td>\n",
       "      <td>300.60500</td>\n",
       "      <td>101077.060</td>\n",
       "      <td>302.93115</td>\n",
       "      <td>101072.375</td>\n",
       "      <td>0.000217</td>\n",
       "      <td>0.0</td>\n",
       "      <td>0.0</td>\n",
       "      <td>176.47754</td>\n",
       "      <td>7.532837</td>\n",
       "      <td>1.323251</td>\n",
       "      <td>0.0</td>\n",
       "      <td>0.0</td>\n",
       "    </tr>\n",
       "    <tr>\n",
       "      <th>519718</th>\n",
       "      <td>2025-04-22 22:00:00</td>\n",
       "      <td>-1.992020</td>\n",
       "      <td>5.736984</td>\n",
       "      <td>297.80290</td>\n",
       "      <td>300.50690</td>\n",
       "      <td>101056.690</td>\n",
       "      <td>302.46850</td>\n",
       "      <td>101051.560</td>\n",
       "      <td>0.000284</td>\n",
       "      <td>0.0</td>\n",
       "      <td>0.0</td>\n",
       "      <td>175.82750</td>\n",
       "      <td>7.434998</td>\n",
       "      <td>1.327711</td>\n",
       "      <td>0.0</td>\n",
       "      <td>0.0</td>\n",
       "    </tr>\n",
       "    <tr>\n",
       "      <th>519719</th>\n",
       "      <td>2025-04-22 23:00:00</td>\n",
       "      <td>-1.603744</td>\n",
       "      <td>5.945923</td>\n",
       "      <td>297.80896</td>\n",
       "      <td>300.45550</td>\n",
       "      <td>100963.125</td>\n",
       "      <td>302.46850</td>\n",
       "      <td>100959.220</td>\n",
       "      <td>0.000098</td>\n",
       "      <td>0.0</td>\n",
       "      <td>0.0</td>\n",
       "      <td>175.64552</td>\n",
       "      <td>7.388348</td>\n",
       "      <td>1.327354</td>\n",
       "      <td>0.0</td>\n",
       "      <td>0.0</td>\n",
       "    </tr>\n",
       "  </tbody>\n",
       "</table>\n",
       "<p>519720 rows × 16 columns</p>\n",
       "</div>"
      ],
      "text/plain": [
       "                 valid_time       u10       v10        d2m        t2m  \\\n",
       "0       1966-01-08 00:00:00  0.167664  4.068848  295.96410  298.87402   \n",
       "1       1966-01-08 01:00:00  0.324326  4.016586  295.96080  298.74690   \n",
       "2       1966-01-08 02:00:00  0.384232  3.952469  295.99136  298.55120   \n",
       "3       1966-01-08 03:00:00  0.368317  4.033676  295.95123  298.47656   \n",
       "4       1966-01-08 04:00:00  0.301758  4.101944  296.04437  298.32910   \n",
       "...                     ...       ...       ...        ...        ...   \n",
       "519715  2025-04-22 19:00:00 -1.667984  5.356354  298.04170  300.72876   \n",
       "519716  2025-04-22 20:00:00 -2.862824  4.800339  298.13013  300.41824   \n",
       "519717  2025-04-22 21:00:00 -3.478989  4.612839  298.29230  300.60500   \n",
       "519718  2025-04-22 22:00:00 -1.992020  5.736984  297.80290  300.50690   \n",
       "519719  2025-04-22 23:00:00 -1.603744  5.945923  297.80896  300.45550   \n",
       "\n",
       "               msl        sst          sp        tp  latitude_x  longitude_x  \\\n",
       "0       101169.690  300.06665  101165.734  0.000059         0.0          0.0   \n",
       "1       101088.375  300.06665  101083.440  0.000048         0.0          0.0   \n",
       "2       101022.690  300.06665  101018.470  0.000119         0.0          0.0   \n",
       "3       100992.440  300.06665  100987.984  0.000162         0.0          0.0   \n",
       "4       100937.375  300.06665  100932.700  0.000101         0.0          0.0   \n",
       "...            ...        ...         ...       ...         ...          ...   \n",
       "519715  100928.250  302.93115  100923.220  0.000161         0.0          0.0   \n",
       "519716  101024.310  302.93115  101019.260  0.000147         0.0          0.0   \n",
       "519717  101077.060  302.93115  101072.375  0.000217         0.0          0.0   \n",
       "519718  101056.690  302.46850  101051.560  0.000284         0.0          0.0   \n",
       "519719  100963.125  302.46850  100959.220  0.000098         0.0          0.0   \n",
       "\n",
       "              mwd       mwp       swh  latitude_y  longitude_y  \n",
       "0       183.29135  6.593778  1.009988         0.0          0.0  \n",
       "1       183.37257  6.633514  1.000220         0.0          0.0  \n",
       "2       183.45078  6.667019  0.990966         0.0          0.0  \n",
       "3       183.51556  6.688365  0.982832         0.0          0.0  \n",
       "4       183.54956  6.702400  0.975484         0.0          0.0  \n",
       "...           ...       ...       ...         ...          ...  \n",
       "519715  177.27835  7.623084  1.328383         0.0          0.0  \n",
       "519716  176.92206  7.572200  1.326519         0.0          0.0  \n",
       "519717  176.47754  7.532837  1.323251         0.0          0.0  \n",
       "519718  175.82750  7.434998  1.327711         0.0          0.0  \n",
       "519719  175.64552  7.388348  1.327354         0.0          0.0  \n",
       "\n",
       "[519720 rows x 16 columns]"
      ]
     },
     "execution_count": 6,
     "metadata": {},
     "output_type": "execute_result"
    }
   ],
   "source": [
    "merged_df"
   ]
  },
  {
   "cell_type": "code",
   "execution_count": 9,
   "id": "b2a875d2-eb87-413e-ba4b-cd9a7153170b",
   "metadata": {},
   "outputs": [
    {
     "name": "stdout",
     "output_type": "stream",
     "text": [
      "Index(['valid_time', 'u10', 'v10', 'd2m', 't2m', 'msl', 'sst', 'sp', 'tp',\n",
      "       'latitude_x', 'longitude_x', 'mwd', 'mwp', 'swh', 'latitude_y',\n",
      "       'longitude_y'],\n",
      "      dtype='object')\n"
     ]
    }
   ],
   "source": [
    "print(merged_df.columns)"
   ]
  },
  {
   "cell_type": "code",
   "execution_count": 10,
   "id": "dece8cea-05b1-4ab7-98b8-57909199586b",
   "metadata": {},
   "outputs": [
    {
     "name": "stdout",
     "output_type": "stream",
     "text": [
      "            valid_time       u10       v10        d2m        t2m         msl  \\\n",
      "0  1966-01-08 00:00:00  0.167664  4.068848  295.96410  298.87402  101169.690   \n",
      "1  1966-01-08 01:00:00  0.324326  4.016586  295.96080  298.74690  101088.375   \n",
      "2  1966-01-08 02:00:00  0.384232  3.952469  295.99136  298.55120  101022.690   \n",
      "3  1966-01-08 03:00:00  0.368317  4.033676  295.95123  298.47656  100992.440   \n",
      "4  1966-01-08 04:00:00  0.301758  4.101944  296.04437  298.32910  100937.375   \n",
      "\n",
      "         sst          sp        tp        mwd       mwp       swh  \n",
      "0  300.06665  101165.734  0.000059  183.29135  6.593778  1.009988  \n",
      "1  300.06665  101083.440  0.000048  183.37257  6.633514  1.000220  \n",
      "2  300.06665  101018.470  0.000119  183.45078  6.667019  0.990966  \n",
      "3  300.06665  100987.984  0.000162  183.51556  6.688365  0.982832  \n",
      "4  300.06665  100932.700  0.000101  183.54956  6.702400  0.975484  \n"
     ]
    }
   ],
   "source": [
    "# Latitude aur Longitude ke dono columns ko hataana\n",
    "merged_df = merged_df.drop(['latitude_x', 'longitude_x', 'latitude_y', 'longitude_y'], axis=1)\n",
    "\n",
    "# Updated DataFrame ko dekhna\n",
    "print(merged_df.head())"
   ]
  },
  {
   "cell_type": "code",
   "execution_count": 11,
   "id": "8b26dfc3-571f-4a3b-9ddb-9ffd0a494813",
   "metadata": {},
   "outputs": [
    {
     "name": "stdout",
     "output_type": "stream",
     "text": [
      "Index(['valid_time', 'u10', 'v10', 'd2m', 't2m', 'msl', 'sst', 'sp', 'tp',\n",
      "       'mwd', 'mwp', 'swh'],\n",
      "      dtype='object')\n"
     ]
    }
   ],
   "source": [
    "print(merged_df.columns)"
   ]
  },
  {
   "cell_type": "code",
   "execution_count": 12,
   "id": "63fd6cfd-190c-458b-93a8-d38dc14bc11e",
   "metadata": {},
   "outputs": [
    {
     "name": "stdout",
     "output_type": "stream",
     "text": [
      "            valid_time  wind_u10 (east-west component)  \\\n",
      "0  1966-01-08 00:00:00                        0.167664   \n",
      "1  1966-01-08 01:00:00                        0.324326   \n",
      "2  1966-01-08 02:00:00                        0.384232   \n",
      "3  1966-01-08 03:00:00                        0.368317   \n",
      "4  1966-01-08 04:00:00                        0.301758   \n",
      "\n",
      "   wind_v10 (north-south component)  dew_point_2m (K)  temperature_2m (K)  \\\n",
      "0                          4.068848         295.96410           298.87402   \n",
      "1                          4.016586         295.96080           298.74690   \n",
      "2                          3.952469         295.99136           298.55120   \n",
      "3                          4.033676         295.95123           298.47656   \n",
      "4                          4.101944         296.04437           298.32910   \n",
      "\n",
      "   mean_sea_level_pressure (Pa)  sea_surface_temperature (K)  \\\n",
      "0                    101169.690                    300.06665   \n",
      "1                    101088.375                    300.06665   \n",
      "2                    101022.690                    300.06665   \n",
      "3                    100992.440                    300.06665   \n",
      "4                    100937.375                    300.06665   \n",
      "\n",
      "   surface_pressure (Pa)  total_precipitation (mm)  mean_wave_direction (°)  \\\n",
      "0             101165.734                  0.000059                183.29135   \n",
      "1             101083.440                  0.000048                183.37257   \n",
      "2             101018.470                  0.000119                183.45078   \n",
      "3             100987.984                  0.000162                183.51556   \n",
      "4             100932.700                  0.000101                183.54956   \n",
      "\n",
      "   mean_wave_period (s)  significant_wave_height (m)  \n",
      "0              6.593778                     1.009988  \n",
      "1              6.633514                     1.000220  \n",
      "2              6.667019                     0.990966  \n",
      "3              6.688365                     0.982832  \n",
      "4              6.702400                     0.975484  \n"
     ]
    }
   ],
   "source": [
    "# Set True column names\n",
    "merged_df.columns = [\n",
    "    'valid_time', \n",
    "    'wind_u10 (east-west component)', \n",
    "    'wind_v10 (north-south component)', \n",
    "    'dew_point_2m (K)', \n",
    "    'temperature_2m (K)', \n",
    "    'mean_sea_level_pressure (Pa)', \n",
    "    'sea_surface_temperature (K)', \n",
    "    'surface_pressure (Pa)', \n",
    "    'total_precipitation (mm)', \n",
    "    'mean_wave_direction (°)', \n",
    "    'mean_wave_period (s)', \n",
    "    'significant_wave_height (m)'\n",
    "]\n",
    "\n",
    "# Display updated DataFrame to verify the changes\n",
    "print(merged_df.head())"
   ]
  },
  {
   "cell_type": "code",
   "execution_count": 13,
   "id": "71404ca5-a2eb-435a-902a-c0d5d3a03984",
   "metadata": {},
   "outputs": [
    {
     "name": "stdout",
     "output_type": "stream",
     "text": [
      "Index(['valid_time', 'wind_u10 (east-west component)',\n",
      "       'wind_v10 (north-south component)', 'dew_point_2m (K)',\n",
      "       'temperature_2m (K)', 'mean_sea_level_pressure (Pa)',\n",
      "       'sea_surface_temperature (K)', 'surface_pressure (Pa)',\n",
      "       'total_precipitation (mm)', 'mean_wave_direction (°)',\n",
      "       'mean_wave_period (s)', 'significant_wave_height (m)'],\n",
      "      dtype='object')\n"
     ]
    }
   ],
   "source": [
    "print(merged_df.columns)"
   ]
  },
  {
   "cell_type": "code",
   "execution_count": 14,
   "id": "c5dd92e2-f518-461e-86ca-69a590f6e16e",
   "metadata": {},
   "outputs": [
    {
     "name": "stdout",
     "output_type": "stream",
     "text": [
      "        valid_time  wind_u10 (east-west component)  \\\n",
      "0            False                           False   \n",
      "1            False                           False   \n",
      "2            False                           False   \n",
      "3            False                           False   \n",
      "4            False                           False   \n",
      "...            ...                             ...   \n",
      "519715       False                           False   \n",
      "519716       False                           False   \n",
      "519717       False                           False   \n",
      "519718       False                           False   \n",
      "519719       False                           False   \n",
      "\n",
      "        wind_v10 (north-south component)  dew_point_2m (K)  \\\n",
      "0                                  False             False   \n",
      "1                                  False             False   \n",
      "2                                  False             False   \n",
      "3                                  False             False   \n",
      "4                                  False             False   \n",
      "...                                  ...               ...   \n",
      "519715                             False             False   \n",
      "519716                             False             False   \n",
      "519717                             False             False   \n",
      "519718                             False             False   \n",
      "519719                             False             False   \n",
      "\n",
      "        temperature_2m (K)  mean_sea_level_pressure (Pa)  \\\n",
      "0                    False                         False   \n",
      "1                    False                         False   \n",
      "2                    False                         False   \n",
      "3                    False                         False   \n",
      "4                    False                         False   \n",
      "...                    ...                           ...   \n",
      "519715               False                         False   \n",
      "519716               False                         False   \n",
      "519717               False                         False   \n",
      "519718               False                         False   \n",
      "519719               False                         False   \n",
      "\n",
      "        sea_surface_temperature (K)  surface_pressure (Pa)  \\\n",
      "0                             False                  False   \n",
      "1                             False                  False   \n",
      "2                             False                  False   \n",
      "3                             False                  False   \n",
      "4                             False                  False   \n",
      "...                             ...                    ...   \n",
      "519715                        False                  False   \n",
      "519716                        False                  False   \n",
      "519717                        False                  False   \n",
      "519718                        False                  False   \n",
      "519719                        False                  False   \n",
      "\n",
      "        total_precipitation (mm)  mean_wave_direction (°)  \\\n",
      "0                          False                    False   \n",
      "1                          False                    False   \n",
      "2                          False                    False   \n",
      "3                          False                    False   \n",
      "4                          False                    False   \n",
      "...                          ...                      ...   \n",
      "519715                     False                    False   \n",
      "519716                     False                    False   \n",
      "519717                     False                    False   \n",
      "519718                     False                    False   \n",
      "519719                     False                    False   \n",
      "\n",
      "        mean_wave_period (s)  significant_wave_height (m)  \n",
      "0                      False                        False  \n",
      "1                      False                        False  \n",
      "2                      False                        False  \n",
      "3                      False                        False  \n",
      "4                      False                        False  \n",
      "...                      ...                          ...  \n",
      "519715                 False                        False  \n",
      "519716                 False                        False  \n",
      "519717                 False                        False  \n",
      "519718                 False                        False  \n",
      "519719                 False                        False  \n",
      "\n",
      "[519720 rows x 12 columns]\n"
     ]
    }
   ],
   "source": [
    "print(merged_df.isnull())"
   ]
  },
  {
   "cell_type": "code",
   "execution_count": 15,
   "id": "98d3ba43-f79b-4e47-8888-f559473317d0",
   "metadata": {},
   "outputs": [
    {
     "name": "stdout",
     "output_type": "stream",
     "text": [
      "<class 'pandas.core.frame.DataFrame'>\n",
      "RangeIndex: 519720 entries, 0 to 519719\n",
      "Data columns (total 12 columns):\n",
      " #   Column                            Non-Null Count   Dtype  \n",
      "---  ------                            --------------   -----  \n",
      " 0   valid_time                        519720 non-null  object \n",
      " 1   wind_u10 (east-west component)    519720 non-null  float64\n",
      " 2   wind_v10 (north-south component)  519720 non-null  float64\n",
      " 3   dew_point_2m (K)                  519720 non-null  float64\n",
      " 4   temperature_2m (K)                519720 non-null  float64\n",
      " 5   mean_sea_level_pressure (Pa)      519720 non-null  float64\n",
      " 6   sea_surface_temperature (K)       519720 non-null  float64\n",
      " 7   surface_pressure (Pa)             519720 non-null  float64\n",
      " 8   total_precipitation (mm)          519720 non-null  float64\n",
      " 9   mean_wave_direction (°)           519720 non-null  float64\n",
      " 10  mean_wave_period (s)              519720 non-null  float64\n",
      " 11  significant_wave_height (m)       519720 non-null  float64\n",
      "dtypes: float64(11), object(1)\n",
      "memory usage: 47.6+ MB\n",
      "None\n"
     ]
    }
   ],
   "source": [
    "print(merged_df.info())"
   ]
  },
  {
   "cell_type": "code",
   "execution_count": 16,
   "id": "8df00e72-6823-498b-aeff-7ae601094e69",
   "metadata": {},
   "outputs": [],
   "source": [
    "merged_df['valid_time'] = pd.to_datetime(merged_df['valid_time'])"
   ]
  },
  {
   "cell_type": "code",
   "execution_count": 17,
   "id": "634b67e9-dac9-4b77-94fc-45e64b2ab7b8",
   "metadata": {},
   "outputs": [
    {
     "data": {
      "text/html": [
       "<div>\n",
       "<style scoped>\n",
       "    .dataframe tbody tr th:only-of-type {\n",
       "        vertical-align: middle;\n",
       "    }\n",
       "\n",
       "    .dataframe tbody tr th {\n",
       "        vertical-align: top;\n",
       "    }\n",
       "\n",
       "    .dataframe thead th {\n",
       "        text-align: right;\n",
       "    }\n",
       "</style>\n",
       "<table border=\"1\" class=\"dataframe\">\n",
       "  <thead>\n",
       "    <tr style=\"text-align: right;\">\n",
       "      <th></th>\n",
       "      <th>valid_time</th>\n",
       "      <th>wind_u10 (east-west component)</th>\n",
       "      <th>wind_v10 (north-south component)</th>\n",
       "      <th>dew_point_2m (K)</th>\n",
       "      <th>temperature_2m (K)</th>\n",
       "      <th>mean_sea_level_pressure (Pa)</th>\n",
       "      <th>sea_surface_temperature (K)</th>\n",
       "      <th>surface_pressure (Pa)</th>\n",
       "      <th>total_precipitation (mm)</th>\n",
       "      <th>mean_wave_direction (°)</th>\n",
       "      <th>mean_wave_period (s)</th>\n",
       "      <th>significant_wave_height (m)</th>\n",
       "    </tr>\n",
       "  </thead>\n",
       "  <tbody>\n",
       "    <tr>\n",
       "      <th>0</th>\n",
       "      <td>1966-01-08 00:00:00</td>\n",
       "      <td>0.167664</td>\n",
       "      <td>4.068848</td>\n",
       "      <td>295.96410</td>\n",
       "      <td>298.87402</td>\n",
       "      <td>101169.690</td>\n",
       "      <td>300.06665</td>\n",
       "      <td>101165.734</td>\n",
       "      <td>0.000059</td>\n",
       "      <td>183.29135</td>\n",
       "      <td>6.593778</td>\n",
       "      <td>1.009988</td>\n",
       "    </tr>\n",
       "    <tr>\n",
       "      <th>1</th>\n",
       "      <td>1966-01-08 01:00:00</td>\n",
       "      <td>0.324326</td>\n",
       "      <td>4.016586</td>\n",
       "      <td>295.96080</td>\n",
       "      <td>298.74690</td>\n",
       "      <td>101088.375</td>\n",
       "      <td>300.06665</td>\n",
       "      <td>101083.440</td>\n",
       "      <td>0.000048</td>\n",
       "      <td>183.37257</td>\n",
       "      <td>6.633514</td>\n",
       "      <td>1.000220</td>\n",
       "    </tr>\n",
       "    <tr>\n",
       "      <th>2</th>\n",
       "      <td>1966-01-08 02:00:00</td>\n",
       "      <td>0.384232</td>\n",
       "      <td>3.952469</td>\n",
       "      <td>295.99136</td>\n",
       "      <td>298.55120</td>\n",
       "      <td>101022.690</td>\n",
       "      <td>300.06665</td>\n",
       "      <td>101018.470</td>\n",
       "      <td>0.000119</td>\n",
       "      <td>183.45078</td>\n",
       "      <td>6.667019</td>\n",
       "      <td>0.990966</td>\n",
       "    </tr>\n",
       "    <tr>\n",
       "      <th>3</th>\n",
       "      <td>1966-01-08 03:00:00</td>\n",
       "      <td>0.368317</td>\n",
       "      <td>4.033676</td>\n",
       "      <td>295.95123</td>\n",
       "      <td>298.47656</td>\n",
       "      <td>100992.440</td>\n",
       "      <td>300.06665</td>\n",
       "      <td>100987.984</td>\n",
       "      <td>0.000162</td>\n",
       "      <td>183.51556</td>\n",
       "      <td>6.688365</td>\n",
       "      <td>0.982832</td>\n",
       "    </tr>\n",
       "    <tr>\n",
       "      <th>4</th>\n",
       "      <td>1966-01-08 04:00:00</td>\n",
       "      <td>0.301758</td>\n",
       "      <td>4.101944</td>\n",
       "      <td>296.04437</td>\n",
       "      <td>298.32910</td>\n",
       "      <td>100937.375</td>\n",
       "      <td>300.06665</td>\n",
       "      <td>100932.700</td>\n",
       "      <td>0.000101</td>\n",
       "      <td>183.54956</td>\n",
       "      <td>6.702400</td>\n",
       "      <td>0.975484</td>\n",
       "    </tr>\n",
       "    <tr>\n",
       "      <th>...</th>\n",
       "      <td>...</td>\n",
       "      <td>...</td>\n",
       "      <td>...</td>\n",
       "      <td>...</td>\n",
       "      <td>...</td>\n",
       "      <td>...</td>\n",
       "      <td>...</td>\n",
       "      <td>...</td>\n",
       "      <td>...</td>\n",
       "      <td>...</td>\n",
       "      <td>...</td>\n",
       "      <td>...</td>\n",
       "    </tr>\n",
       "    <tr>\n",
       "      <th>519715</th>\n",
       "      <td>2025-04-22 19:00:00</td>\n",
       "      <td>-1.667984</td>\n",
       "      <td>5.356354</td>\n",
       "      <td>298.04170</td>\n",
       "      <td>300.72876</td>\n",
       "      <td>100928.250</td>\n",
       "      <td>302.93115</td>\n",
       "      <td>100923.220</td>\n",
       "      <td>0.000161</td>\n",
       "      <td>177.27835</td>\n",
       "      <td>7.623084</td>\n",
       "      <td>1.328383</td>\n",
       "    </tr>\n",
       "    <tr>\n",
       "      <th>519716</th>\n",
       "      <td>2025-04-22 20:00:00</td>\n",
       "      <td>-2.862824</td>\n",
       "      <td>4.800339</td>\n",
       "      <td>298.13013</td>\n",
       "      <td>300.41824</td>\n",
       "      <td>101024.310</td>\n",
       "      <td>302.93115</td>\n",
       "      <td>101019.260</td>\n",
       "      <td>0.000147</td>\n",
       "      <td>176.92206</td>\n",
       "      <td>7.572200</td>\n",
       "      <td>1.326519</td>\n",
       "    </tr>\n",
       "    <tr>\n",
       "      <th>519717</th>\n",
       "      <td>2025-04-22 21:00:00</td>\n",
       "      <td>-3.478989</td>\n",
       "      <td>4.612839</td>\n",
       "      <td>298.29230</td>\n",
       "      <td>300.60500</td>\n",
       "      <td>101077.060</td>\n",
       "      <td>302.93115</td>\n",
       "      <td>101072.375</td>\n",
       "      <td>0.000217</td>\n",
       "      <td>176.47754</td>\n",
       "      <td>7.532837</td>\n",
       "      <td>1.323251</td>\n",
       "    </tr>\n",
       "    <tr>\n",
       "      <th>519718</th>\n",
       "      <td>2025-04-22 22:00:00</td>\n",
       "      <td>-1.992020</td>\n",
       "      <td>5.736984</td>\n",
       "      <td>297.80290</td>\n",
       "      <td>300.50690</td>\n",
       "      <td>101056.690</td>\n",
       "      <td>302.46850</td>\n",
       "      <td>101051.560</td>\n",
       "      <td>0.000284</td>\n",
       "      <td>175.82750</td>\n",
       "      <td>7.434998</td>\n",
       "      <td>1.327711</td>\n",
       "    </tr>\n",
       "    <tr>\n",
       "      <th>519719</th>\n",
       "      <td>2025-04-22 23:00:00</td>\n",
       "      <td>-1.603744</td>\n",
       "      <td>5.945923</td>\n",
       "      <td>297.80896</td>\n",
       "      <td>300.45550</td>\n",
       "      <td>100963.125</td>\n",
       "      <td>302.46850</td>\n",
       "      <td>100959.220</td>\n",
       "      <td>0.000098</td>\n",
       "      <td>175.64552</td>\n",
       "      <td>7.388348</td>\n",
       "      <td>1.327354</td>\n",
       "    </tr>\n",
       "  </tbody>\n",
       "</table>\n",
       "<p>519720 rows × 12 columns</p>\n",
       "</div>"
      ],
      "text/plain": [
       "                valid_time  wind_u10 (east-west component)  \\\n",
       "0      1966-01-08 00:00:00                        0.167664   \n",
       "1      1966-01-08 01:00:00                        0.324326   \n",
       "2      1966-01-08 02:00:00                        0.384232   \n",
       "3      1966-01-08 03:00:00                        0.368317   \n",
       "4      1966-01-08 04:00:00                        0.301758   \n",
       "...                    ...                             ...   \n",
       "519715 2025-04-22 19:00:00                       -1.667984   \n",
       "519716 2025-04-22 20:00:00                       -2.862824   \n",
       "519717 2025-04-22 21:00:00                       -3.478989   \n",
       "519718 2025-04-22 22:00:00                       -1.992020   \n",
       "519719 2025-04-22 23:00:00                       -1.603744   \n",
       "\n",
       "        wind_v10 (north-south component)  dew_point_2m (K)  \\\n",
       "0                               4.068848         295.96410   \n",
       "1                               4.016586         295.96080   \n",
       "2                               3.952469         295.99136   \n",
       "3                               4.033676         295.95123   \n",
       "4                               4.101944         296.04437   \n",
       "...                                  ...               ...   \n",
       "519715                          5.356354         298.04170   \n",
       "519716                          4.800339         298.13013   \n",
       "519717                          4.612839         298.29230   \n",
       "519718                          5.736984         297.80290   \n",
       "519719                          5.945923         297.80896   \n",
       "\n",
       "        temperature_2m (K)  mean_sea_level_pressure (Pa)  \\\n",
       "0                298.87402                    101169.690   \n",
       "1                298.74690                    101088.375   \n",
       "2                298.55120                    101022.690   \n",
       "3                298.47656                    100992.440   \n",
       "4                298.32910                    100937.375   \n",
       "...                    ...                           ...   \n",
       "519715           300.72876                    100928.250   \n",
       "519716           300.41824                    101024.310   \n",
       "519717           300.60500                    101077.060   \n",
       "519718           300.50690                    101056.690   \n",
       "519719           300.45550                    100963.125   \n",
       "\n",
       "        sea_surface_temperature (K)  surface_pressure (Pa)  \\\n",
       "0                         300.06665             101165.734   \n",
       "1                         300.06665             101083.440   \n",
       "2                         300.06665             101018.470   \n",
       "3                         300.06665             100987.984   \n",
       "4                         300.06665             100932.700   \n",
       "...                             ...                    ...   \n",
       "519715                    302.93115             100923.220   \n",
       "519716                    302.93115             101019.260   \n",
       "519717                    302.93115             101072.375   \n",
       "519718                    302.46850             101051.560   \n",
       "519719                    302.46850             100959.220   \n",
       "\n",
       "        total_precipitation (mm)  mean_wave_direction (°)  \\\n",
       "0                       0.000059                183.29135   \n",
       "1                       0.000048                183.37257   \n",
       "2                       0.000119                183.45078   \n",
       "3                       0.000162                183.51556   \n",
       "4                       0.000101                183.54956   \n",
       "...                          ...                      ...   \n",
       "519715                  0.000161                177.27835   \n",
       "519716                  0.000147                176.92206   \n",
       "519717                  0.000217                176.47754   \n",
       "519718                  0.000284                175.82750   \n",
       "519719                  0.000098                175.64552   \n",
       "\n",
       "        mean_wave_period (s)  significant_wave_height (m)  \n",
       "0                   6.593778                     1.009988  \n",
       "1                   6.633514                     1.000220  \n",
       "2                   6.667019                     0.990966  \n",
       "3                   6.688365                     0.982832  \n",
       "4                   6.702400                     0.975484  \n",
       "...                      ...                          ...  \n",
       "519715              7.623084                     1.328383  \n",
       "519716              7.572200                     1.326519  \n",
       "519717              7.532837                     1.323251  \n",
       "519718              7.434998                     1.327711  \n",
       "519719              7.388348                     1.327354  \n",
       "\n",
       "[519720 rows x 12 columns]"
      ]
     },
     "execution_count": 17,
     "metadata": {},
     "output_type": "execute_result"
    }
   ],
   "source": [
    "merged_df"
   ]
  },
  {
   "cell_type": "code",
   "execution_count": 18,
   "id": "8c45905b-662e-4ab4-b0cb-260e490d1ffc",
   "metadata": {},
   "outputs": [
    {
     "name": "stdout",
     "output_type": "stream",
     "text": [
      "valid_time                          0\n",
      "wind_u10 (east-west component)      0\n",
      "wind_v10 (north-south component)    0\n",
      "dew_point_2m (K)                    0\n",
      "temperature_2m (K)                  0\n",
      "mean_sea_level_pressure (Pa)        0\n",
      "sea_surface_temperature (K)         0\n",
      "surface_pressure (Pa)               0\n",
      "total_precipitation (mm)            0\n",
      "mean_wave_direction (°)             0\n",
      "mean_wave_period (s)                0\n",
      "significant_wave_height (m)         0\n",
      "dtype: int64\n"
     ]
    }
   ],
   "source": [
    "print(merged_df.isnull().sum())"
   ]
  },
  {
   "cell_type": "code",
   "execution_count": 19,
   "id": "9fbe1254-638f-46f8-bd77-9597133e0991",
   "metadata": {},
   "outputs": [
    {
     "data": {
      "text/plain": [
       "(519720, 12)"
      ]
     },
     "execution_count": 19,
     "metadata": {},
     "output_type": "execute_result"
    }
   ],
   "source": [
    "merged_df.shape"
   ]
  },
  {
   "cell_type": "markdown",
   "id": "2b2243cb-1fd3-4340-8746-f6bf510ee939",
   "metadata": {},
   "source": [
    "## Data Preprocessing"
   ]
  },
  {
   "cell_type": "code",
   "execution_count": 21,
   "id": "29df8bb3-70b7-4d84-acb4-8b9ab6982755",
   "metadata": {},
   "outputs": [],
   "source": [
    "from sklearn.preprocessing import MinMaxScaler\n",
    "\n",
    "# Select relevant features\n",
    "features = ['wind_u10 (east-west component)', 'wind_v10 (north-south component)', \n",
    "            'dew_point_2m (K)', 'temperature_2m (K)', 'mean_sea_level_pressure (Pa)', \n",
    "            'sea_surface_temperature (K)', 'surface_pressure (Pa)', \n",
    "            'total_precipitation (mm)', 'mean_wave_direction (°)', \n",
    "            'mean_wave_period (s)', 'significant_wave_height (m)']\n",
    "\n",
    "# Normalize the data\n",
    "scaler = MinMaxScaler(feature_range=(0, 1))\n",
    "scaled_data = scaler.fit_transform(merged_df[features])"
   ]
  },
  {
   "cell_type": "markdown",
   "id": "931fba24-6dc5-448b-802d-b99122e8afbc",
   "metadata": {},
   "source": [
    "## Handling the Date Column(valid_time)"
   ]
  },
  {
   "cell_type": "code",
   "execution_count": 22,
   "id": "4e734d99-a6ed-4a19-8620-6ef3067b46ce",
   "metadata": {},
   "outputs": [],
   "source": [
    "merged_df['valid_time'] = pd.to_datetime(merged_df['valid_time'])"
   ]
  },
  {
   "cell_type": "markdown",
   "id": "728b755b-3794-44bd-a8d5-b36e93a04db0",
   "metadata": {},
   "source": [
    "## Splitting Data into Sequences: \n",
    "LSTM ko sequential data chahiye hota h,\n",
    "Hum sliding window technue use karenge"
   ]
  },
  {
   "cell_type": "code",
   "execution_count": 23,
   "id": "7e14dbf2-4d7f-4d7e-9301-7bc860b9848f",
   "metadata": {},
   "outputs": [],
   "source": [
    "import numpy as np\n",
    "\n",
    "def create_sequences(data, sequence_length=5):\n",
    "    X, y = [], []\n",
    "    for i in range(sequence_length, len(data)):\n",
    "        X.append(data[i-sequence_length:i, :])\n",
    "        y.append(data[i, 0])  # Target is the first feature (e.g., wind speed)\n",
    "    return np.array(X), np.array(y)\n",
    "\n",
    "X, y = create_sequences(scaled_data, sequence_length=5)"
   ]
  },
  {
   "cell_type": "markdown",
   "id": "98b5b574-0371-4c27-b7ac-20d303538007",
   "metadata": {},
   "source": [
    "## Train-Test Split:\n",
    "Splitting the data"
   ]
  },
  {
   "cell_type": "code",
   "execution_count": 24,
   "id": "edee974f-0861-444a-b0ac-f72d2d89a904",
   "metadata": {},
   "outputs": [],
   "source": [
    "train_size = int(len(X) * 0.8)\n",
    "X_train, X_test = X[:train_size], X[train_size:]\n",
    "y_train, y_test = y[:train_size], y[train_size:]"
   ]
  },
  {
   "cell_type": "markdown",
   "id": "02c7e04b-d0c1-48eb-af44-aa5fce28cbf5",
   "metadata": {},
   "source": [
    "## Building the LSTM Model\n",
    " Model Architecture: Ek deep LSTM model build karenge,\n",
    "jisme multiple LSTM layers, Dropout layers (overfitting ko rokne ke liye),\n",
    "aur Dense layers hote hain.\n",
    "#### Explanation of Layers:\n",
    "\n",
    "LSTM(units=100): 100 neurons ka use kiya gaya hai, jo learning ko better banaate hain.\n",
    "\n",
    "Dropout(0.2): Yeh regularization technique hai jo model ke overfitting ko rokne me madad karti hai.\n",
    "\n",
    "Dense(units=1): Final output layer hai jo ek value predict karega."
   ]
  },
  {
   "cell_type": "code",
   "execution_count": 25,
   "id": "983d6f92-1de0-42b8-b505-fcf4bf43b5fb",
   "metadata": {},
   "outputs": [
    {
     "name": "stderr",
     "output_type": "stream",
     "text": [
      "C:\\Users\\alok3\\anaconda3\\Lib\\site-packages\\keras\\src\\layers\\rnn\\rnn.py:204: UserWarning: Do not pass an `input_shape`/`input_dim` argument to a layer. When using Sequential models, prefer using an `Input(shape)` object as the first layer in the model instead.\n",
      "  super().__init__(**kwargs)\n"
     ]
    }
   ],
   "source": [
    "from keras.models import Sequential\n",
    "from keras.layers import LSTM, Dense, Dropout\n",
    "\n",
    "model = Sequential()\n",
    "\n",
    "# First LSTM Layer\n",
    "model.add(LSTM(units=100, return_sequences=True, input_shape=(X_train.shape[1], X_train.shape[2])))\n",
    "model.add(Dropout(0.2))\n",
    "\n",
    "# Second LSTM Layer\n",
    "model.add(LSTM(units=100, return_sequences=False))\n",
    "model.add(Dropout(0.2))\n",
    "\n",
    "# Dense Layer\n",
    "model.add(Dense(units=1))  # Predicting one value (e.g., wind speed)\n",
    "\n",
    "# Compiling the model\n",
    "model.compile(optimizer='adam', loss='mean_squared_error')"
   ]
  },
  {
   "cell_type": "markdown",
   "id": "9a87861d-e576-4e23-87f5-657b58cbb8de",
   "metadata": {},
   "source": [
    "## Train the model"
   ]
  },
  {
   "cell_type": "code",
   "execution_count": 26,
   "id": "596e0808-e86b-40dd-85f3-7ab7a79b0162",
   "metadata": {},
   "outputs": [
    {
     "name": "stdout",
     "output_type": "stream",
     "text": [
      "Epoch 1/20\n",
      "\u001b[1m12993/12993\u001b[0m \u001b[32m━━━━━━━━━━━━━━━━━━━━\u001b[0m\u001b[37m\u001b[0m \u001b[1m120s\u001b[0m 9ms/step - loss: 0.0025 - val_loss: 4.1162e-04\n",
      "Epoch 2/20\n",
      "\u001b[1m12993/12993\u001b[0m \u001b[32m━━━━━━━━━━━━━━━━━━━━\u001b[0m\u001b[37m\u001b[0m \u001b[1m116s\u001b[0m 9ms/step - loss: 4.3086e-04 - val_loss: 3.9850e-04\n",
      "Epoch 3/20\n",
      "\u001b[1m12993/12993\u001b[0m \u001b[32m━━━━━━━━━━━━━━━━━━━━\u001b[0m\u001b[37m\u001b[0m \u001b[1m116s\u001b[0m 9ms/step - loss: 4.0794e-04 - val_loss: 4.3705e-04\n",
      "Epoch 4/20\n",
      "\u001b[1m12993/12993\u001b[0m \u001b[32m━━━━━━━━━━━━━━━━━━━━\u001b[0m\u001b[37m\u001b[0m \u001b[1m116s\u001b[0m 9ms/step - loss: 3.9603e-04 - val_loss: 3.7432e-04\n",
      "Epoch 5/20\n",
      "\u001b[1m12993/12993\u001b[0m \u001b[32m━━━━━━━━━━━━━━━━━━━━\u001b[0m\u001b[37m\u001b[0m \u001b[1m116s\u001b[0m 9ms/step - loss: 3.8774e-04 - val_loss: 3.6363e-04\n",
      "Epoch 6/20\n",
      "\u001b[1m12993/12993\u001b[0m \u001b[32m━━━━━━━━━━━━━━━━━━━━\u001b[0m\u001b[37m\u001b[0m \u001b[1m144s\u001b[0m 11ms/step - loss: 3.8074e-04 - val_loss: 3.6003e-04\n",
      "Epoch 7/20\n",
      "\u001b[1m12993/12993\u001b[0m \u001b[32m━━━━━━━━━━━━━━━━━━━━\u001b[0m\u001b[37m\u001b[0m \u001b[1m142s\u001b[0m 11ms/step - loss: 3.7943e-04 - val_loss: 3.7665e-04\n",
      "Epoch 8/20\n",
      "\u001b[1m12993/12993\u001b[0m \u001b[32m━━━━━━━━━━━━━━━━━━━━\u001b[0m\u001b[37m\u001b[0m \u001b[1m117s\u001b[0m 9ms/step - loss: 3.7526e-04 - val_loss: 3.6280e-04\n",
      "Epoch 9/20\n",
      "\u001b[1m12993/12993\u001b[0m \u001b[32m━━━━━━━━━━━━━━━━━━━━\u001b[0m\u001b[37m\u001b[0m \u001b[1m146s\u001b[0m 11ms/step - loss: 3.7137e-04 - val_loss: 3.5873e-04\n",
      "Epoch 10/20\n",
      "\u001b[1m12993/12993\u001b[0m \u001b[32m━━━━━━━━━━━━━━━━━━━━\u001b[0m\u001b[37m\u001b[0m \u001b[1m176s\u001b[0m 14ms/step - loss: 3.7063e-04 - val_loss: 3.5407e-04\n",
      "Epoch 11/20\n",
      "\u001b[1m12993/12993\u001b[0m \u001b[32m━━━━━━━━━━━━━━━━━━━━\u001b[0m\u001b[37m\u001b[0m \u001b[1m146s\u001b[0m 11ms/step - loss: 3.6808e-04 - val_loss: 3.5764e-04\n",
      "Epoch 12/20\n",
      "\u001b[1m12993/12993\u001b[0m \u001b[32m━━━━━━━━━━━━━━━━━━━━\u001b[0m\u001b[37m\u001b[0m \u001b[1m149s\u001b[0m 11ms/step - loss: 3.6672e-04 - val_loss: 4.1376e-04\n",
      "Epoch 13/20\n",
      "\u001b[1m12993/12993\u001b[0m \u001b[32m━━━━━━━━━━━━━━━━━━━━\u001b[0m\u001b[37m\u001b[0m \u001b[1m147s\u001b[0m 11ms/step - loss: 3.6603e-04 - val_loss: 3.5014e-04\n",
      "Epoch 14/20\n",
      "\u001b[1m12993/12993\u001b[0m \u001b[32m━━━━━━━━━━━━━━━━━━━━\u001b[0m\u001b[37m\u001b[0m \u001b[1m174s\u001b[0m 13ms/step - loss: 3.6425e-04 - val_loss: 3.8828e-04\n",
      "Epoch 15/20\n",
      "\u001b[1m12993/12993\u001b[0m \u001b[32m━━━━━━━━━━━━━━━━━━━━\u001b[0m\u001b[37m\u001b[0m \u001b[1m147s\u001b[0m 11ms/step - loss: 3.5987e-04 - val_loss: 3.5194e-04\n",
      "Epoch 16/20\n",
      "\u001b[1m12993/12993\u001b[0m \u001b[32m━━━━━━━━━━━━━━━━━━━━\u001b[0m\u001b[37m\u001b[0m \u001b[1m177s\u001b[0m 14ms/step - loss: 3.5835e-04 - val_loss: 3.4805e-04\n",
      "Epoch 17/20\n",
      "\u001b[1m12993/12993\u001b[0m \u001b[32m━━━━━━━━━━━━━━━━━━━━\u001b[0m\u001b[37m\u001b[0m \u001b[1m151s\u001b[0m 12ms/step - loss: 3.5925e-04 - val_loss: 3.4844e-04\n",
      "Epoch 18/20\n",
      "\u001b[1m12993/12993\u001b[0m \u001b[32m━━━━━━━━━━━━━━━━━━━━\u001b[0m\u001b[37m\u001b[0m \u001b[1m183s\u001b[0m 14ms/step - loss: 3.5577e-04 - val_loss: 3.5334e-04\n",
      "Epoch 19/20\n",
      "\u001b[1m12993/12993\u001b[0m \u001b[32m━━━━━━━━━━━━━━━━━━━━\u001b[0m\u001b[37m\u001b[0m \u001b[1m152s\u001b[0m 12ms/step - loss: 3.5942e-04 - val_loss: 3.5246e-04\n",
      "Epoch 20/20\n",
      "\u001b[1m12993/12993\u001b[0m \u001b[32m━━━━━━━━━━━━━━━━━━━━\u001b[0m\u001b[37m\u001b[0m \u001b[1m156s\u001b[0m 12ms/step - loss: 3.5473e-04 - val_loss: 3.6228e-04\n"
     ]
    },
    {
     "data": {
      "text/plain": [
       "<keras.src.callbacks.history.History at 0x1e06263a5a0>"
      ]
     },
     "execution_count": 26,
     "metadata": {},
     "output_type": "execute_result"
    }
   ],
   "source": [
    "model.fit(X_train, y_train, epochs=20, batch_size=32, validation_data=(X_test, y_test))"
   ]
  },
  {
   "cell_type": "code",
   "execution_count": 30,
   "id": "85408d0d-6fed-4b18-9912-74525a50af93",
   "metadata": {},
   "outputs": [
    {
     "name": "stdout",
     "output_type": "stream",
     "text": [
      "\u001b[1m3249/3249\u001b[0m \u001b[32m━━━━━━━━━━━━━━━━━━━━\u001b[0m\u001b[37m\u001b[0m \u001b[1m13s\u001b[0m 4ms/step\n"
     ]
    }
   ],
   "source": [
    "# Make predictions on the test set\n",
    "predictions = model.predict(X_test)"
   ]
  },
  {
   "cell_type": "markdown",
   "id": "e2e0f873-6217-44f5-8367-d09be581fe3b",
   "metadata": {},
   "source": [
    "## 2. Evaluate the Model's Performance\n",
    "Mean Squared Error (MSE)\n",
    "\n",
    "Root Mean Squared Error (RMSE)\n",
    "\n",
    "Mean Absolute Error (MAE)\n",
    "\n",
    "R² score (coefficient of determination)"
   ]
  },
  {
   "cell_type": "code",
   "execution_count": 32,
   "id": "5be6f68f-f084-4d2e-8648-5d1866da266a",
   "metadata": {},
   "outputs": [
    {
     "name": "stdout",
     "output_type": "stream",
     "text": [
      "Mean Squared Error (MSE): 0.0003622777690499047\n",
      "Root Mean Squared Error (RMSE): 0.019033595799267795\n",
      "Mean Absolute Error (MAE): 0.012853289934190978\n",
      "R² Score: 0.9626994195133122\n"
     ]
    }
   ],
   "source": [
    "from sklearn.metrics import mean_squared_error, mean_absolute_error, r2_score\n",
    "import numpy as np\n",
    "\n",
    "# Calculate Mean Squared Error (MSE)\n",
    "mse = mean_squared_error(y_test, predictions)\n",
    "rmse = np.sqrt(mse)\n",
    "\n",
    "# Calculate Mean Absolute Error (MAE)\n",
    "mae = mean_absolute_error(y_test, predictions)\n",
    "\n",
    "# Calculate R² score\n",
    "r2 = r2_score(y_test, predictions)\n",
    "\n",
    "# Print out the evaluation metrics\n",
    "print(f'Mean Squared Error (MSE): {mse}')\n",
    "print(f'Root Mean Squared Error (RMSE): {rmse}')\n",
    "print(f'Mean Absolute Error (MAE): {mae}')\n",
    "print(f'R² Score: {r2}')"
   ]
  },
  {
   "cell_type": "markdown",
   "id": "4031ddef-2af3-478c-9e92-74bc78bcc1ee",
   "metadata": {},
   "source": [
    "1. Mean Squared Error (MSE): 0.000362\n",
    "\n",
    "MSE represents the average squared difference between the predicted and actual values. A lower MSE value indicates that the model's predictions are closer to the true values.\n",
    "\n",
    "In your case, the MSE value is very low, suggesting that the model is making predictions that are very close to the actual values.\n",
    "\n",
    "\n",
    "2. Root Mean Squared Error (RMSE): 0.019\n",
    "\n",
    "RMSE is the square root of the MSE and gives you a sense of the magnitude of error in the same unit as the target variable. A lower RMSE means better model performance.\n",
    "\n",
    "With an RMSE of 0.019, your model's average error in predicting the target variable is quite small, which indicates good accuracy.\n",
    "\n",
    "\n",
    "3. Mean Absolute Error (MAE): 0.0128\n",
    "\n",
    "MAE measures the average magnitude of the errors in a set of predictions, without considering their direction (i.e., positive or negative errors are treated equally). A smaller MAE means that, on average, the model's predictions are close to the actual values.\n",
    "\n",
    "4. R² Score: 0.9627\n",
    "\n",
    "R² Score (also called the coefficient of determination) tells you how well the model explains the variability of the target variable. A score of 1 means perfect predictions, while a score of 0 means the model does not explain the target variable at all.\n",
    "\n",
    "Your R² score of 0.9627 is excellent, indicating that around 96.27% of the variance in the target variable is explained by the model. This suggests that the model is performing very well.\n",
    "\n",
    "\n",
    "Conclusion:\n",
    "\n",
    "Your model is doing a great job, with low error values (MSE, RMSE, MAE) and a high R² score."
   ]
  },
  {
   "cell_type": "markdown",
   "id": "91f746e2-7474-41c4-9abe-b8cdfb3bd0f5",
   "metadata": {},
   "source": [
    "## Plotting Results"
   ]
  },
  {
   "cell_type": "code",
   "execution_count": 33,
   "id": "392261ce-b52f-4025-9232-3e2fa77dc78f",
   "metadata": {},
   "outputs": [
    {
     "data": {
      "image/png": "[encoded data removed]",
      "text/plain": [
       "<Figure size 1200x600 with 1 Axes>"
      ]
     },
     "metadata": {},
     "output_type": "display_data"
    }
   ],
   "source": [
    "import matplotlib.pyplot as plt\n",
    "\n",
    "# Plot actual vs predicted values\n",
    "plt.figure(figsize=(12,6))\n",
    "plt.plot(y_test, label='Actual', color='blue')\n",
    "plt.plot(predictions, label='Predicted', color='red', linestyle='--')\n",
    "plt.legend()\n",
    "plt.title('Actual vs Predicted')\n",
    "plt.show()"
   ]
  },
  {
   "cell_type": "code",
   "execution_count": 36,
   "id": "baf11e92-c383-4259-82c0-7bc94ea45d0e",
   "metadata": {},
   "outputs": [
    {
     "name": "stderr",
     "output_type": "stream",
     "text": [
      "WARNING:absl:You are saving your model as an HDF5 file via `model.save()` or `keras.saving.save_model(model)`. This file format is considered legacy. We recommend using instead the native Keras format, e.g. `model.save('my_model.keras')` or `keras.saving.save_model(model, 'my_model.keras')`. \n"
     ]
    }
   ],
   "source": [
    "# Save the model\n",
    "model.save('weather_prediction_lstm.h5')"
   ]
  },
  {
   "cell_type": "code",
   "execution_count": 37,
   "id": "51492699-158e-4c37-874a-3ae309411773",
   "metadata": {},
   "outputs": [],
   "source": [
    "# Save the model in the newer .keras format\n",
    "model.save('weather_prediction_lstm.keras')"
   ]
  },
  {
   "cell_type": "code",
   "execution_count": 38,
   "id": "e86c38f4-c368-437e-ad95-4fa605f01c1b",
   "metadata": {},
   "outputs": [
    {
     "name": "stdout",
     "output_type": "stream",
     "text": [
      "Model saved successfully!\n"
     ]
    }
   ],
   "source": [
    "# Save the model in the newer .keras format\n",
    "model.save('weather_prediction_lstm.keras')\n",
    "\n",
    "# Check if the model is saved successfully\n",
    "import os\n",
    "\n",
    "if os.path.exists('weather_prediction_lstm.keras'):\n",
    "    print(\"Model saved successfully!\")\n",
    "else:\n",
    "    print(\"There was an issue saving the model.\")"
   ]
  },
  {
   "cell_type": "code",
   "execution_count": 1,
   "id": "1c57cf90-7cfa-419c-802a-865eedacdf7b",
   "metadata": {},
   "outputs": [
    {
     "name": "stdout",
     "output_type": "stream",
     "text": [
      "Model loaded successfully!\n"
     ]
    },
    {
     "name": "stderr",
     "output_type": "stream",
     "text": [
      "C:\\Users\\alok3\\anaconda3\\Lib\\site-packages\\keras\\src\\saving\\saving_lib.py:719: UserWarning: Skipping variable loading for optimizer 'rmsprop', because it has 10 variables whereas the saved optimizer has 18 variables. \n",
      "  saveable.load_own_variables(weights_store.get(inner_path))\n"
     ]
    }
   ],
   "source": [
    "import tensorflow as tf\n",
    "\n",
    "def check_model(saved_model_path):\n",
    "    \"\"\"\n",
    "    Function to load and check the saved model.\n",
    "    \n",
    "    Args:\n",
    "    saved_model_path (str): Path to the saved model.\n",
    "    \n",
    "    Returns:\n",
    "    model (tf.keras.Model): Loaded Keras model.\n",
    "    \"\"\"\n",
    "    try:\n",
    "        # Try loading the model\n",
    "        model = tf.keras.models.load_model(saved_model_path)\n",
    "        print(\"Model loaded successfully!\")\n",
    "        return model\n",
    "    except Exception as e:\n",
    "        print(f\"Error loading model: {e}\")\n",
    "        return None\n",
    "\n",
    "# Call the function to check if the model is loaded correctly\n",
    "loaded_model = check_model('weather_prediction_lstm.keras')\n",
    "\n",
    "# You can now proceed to use 'loaded_model' for predictions or further testing."
   ]
  },
  {
   "cell_type": "code",
   "execution_count": 15,
   "id": "250a813a-7d28-47d2-aade-4687ce09c92d",
   "metadata": {},
   "outputs": [
    {
     "name": "stdout",
     "output_type": "stream",
     "text": [
      "WARNING:tensorflow:5 out of the last 5 calls to <function TensorFlowTrainer.make_predict_function.<locals>.one_step_on_data_distributed at 0x000001FF00270720> triggered tf.function retracing. Tracing is expensive and the excessive number of tracings could be due to (1) creating @tf.function repeatedly in a loop, (2) passing tensors with different shapes, (3) passing Python objects instead of tensors. For (1), please define your @tf.function outside of the loop. For (2), @tf.function has reduce_retracing=True option that can avoid unnecessary retracing. For (3), please refer to https://www.tensorflow.org/guide/function#controlling_retracing and https://www.tensorflow.org/api_docs/python/tf/function for  more details.\n",
      "\u001b[1m1/1\u001b[0m \u001b[32m━━━━━━━━━━━━━━━━━━━━\u001b[0m\u001b[37m\u001b[0m \u001b[1m0s\u001b[0m 431ms/step\n",
      "Predictions shape: (1, 1)\n",
      "Predictions: [[0.13492435]]\n",
      "Predicted Safety Status: Safe\n"
     ]
    },
    {
     "data": {
      "application/vnd.plotly.v1+json": {
       "config": {
        "plotlyServerURL": "https://plot.ly"
       },
       "data": [
        {
         "marker": {
          "color": "blue"
         },
         "name": "Prediction Score",
         "type": "bar",
         "visible": true,
         "x": [
          "Weather Safety Prediction"
         ],
         "y": [
          0.13492435216903687
         ]
        },
        {
         "marker": {
          "color": "green"
         },
         "name": "Safety Status (Safe=1)",
         "type": "bar",
         "visible": true,
         "x": [
          "Weather Safety Prediction"
         ],
         "y": [
          1
         ]
        }
       ],
       "layout": {
        "autosize": true,
        "barmode": "group",
        "dragmode": "select",
        "template": {
         "data": {
          "bar": [
           {
            "error_x": {
             "color": "#f2f5fa"
            },
            "error_y": {
             "color": "#f2f5fa"
            },
            "marker": {
             "line": {
              "color": "rgb(17,17,17)",
              "width": 0.5
             },
             "pattern": {
              "fillmode": "overlay",
              "size": 10,
              "solidity": 0.2
             }
            },
            "type": "bar"
           }
          ],
          "barpolar": [
           {
            "marker": {
             "line": {
              "color": "rgb(17,17,17)",
              "width": 0.5
             },
             "pattern": {
              "fillmode": "overlay",
              "size": 10,
              "solidity": 0.2
             }
            },
            "type": "barpolar"
           }
          ],
          "carpet": [
           {
            "aaxis": {
             "endlinecolor": "#A2B1C6",
             "gridcolor": "#506784",
             "linecolor": "#506784",
             "minorgridcolor": "#506784",
             "startlinecolor": "#A2B1C6"
            },
            "baxis": {
             "endlinecolor": "#A2B1C6",
             "gridcolor": "#506784",
             "linecolor": "#506784",
             "minorgridcolor": "#506784",
             "startlinecolor": "#A2B1C6"
            },
            "type": "carpet"
           }
          ],
          "choropleth": [
           {
            "colorbar": {
             "outlinewidth": 0,
             "ticks": ""
            },
            "type": "choropleth"
           }
          ],
          "contour": [
           {
            "colorbar": {
             "outlinewidth": 0,
             "ticks": ""
            },
            "colorscale": [
             [
              0,
              "#0d0887"
             ],
             [
              0.1111111111111111,
              "#46039f"
             ],
             [
              0.2222222222222222,
              "#7201a8"
             ],
             [
              0.3333333333333333,
              "#9c179e"
             ],
             [
              0.4444444444444444,
              "#bd3786"
             ],
             [
              0.5555555555555556,
              "#d8576b"
             ],
             [
              0.6666666666666666,
              "#ed7953"
             ],
             [
              0.7777777777777778,
              "#fb9f3a"
             ],
             [
              0.8888888888888888,
              "#fdca26"
             ],
             [
              1,
              "#f0f921"
             ]
            ],
            "type": "contour"
           }
          ],
          "contourcarpet": [
           {
            "colorbar": {
             "outlinewidth": 0,
             "ticks": ""
            },
            "type": "contourcarpet"
           }
          ],
          "heatmap": [
           {
            "colorbar": {
             "outlinewidth": 0,
             "ticks": ""
            },
            "colorscale": [
             [
              0,
              "#0d0887"
             ],
             [
              0.1111111111111111,
              "#46039f"
             ],
             [
              0.2222222222222222,
              "#7201a8"
             ],
             [
              0.3333333333333333,
              "#9c179e"
             ],
             [
              0.4444444444444444,
              "#bd3786"
             ],
             [
              0.5555555555555556,
              "#d8576b"
             ],
             [
              0.6666666666666666,
              "#ed7953"
             ],
             [
              0.7777777777777778,
              "#fb9f3a"
             ],
             [
              0.8888888888888888,
              "#fdca26"
             ],
             [
              1,
              "#f0f921"
             ]
            ],
            "type": "heatmap"
           }
          ],
          "heatmapgl": [
           {
            "colorbar": {
             "outlinewidth": 0,
             "ticks": ""
            },
            "colorscale": [
             [
              0,
              "#0d0887"
             ],
             [
              0.1111111111111111,
              "#46039f"
             ],
             [
              0.2222222222222222,
              "#7201a8"
             ],
             [
              0.3333333333333333,
              "#9c179e"
             ],
             [
              0.4444444444444444,
              "#bd3786"
             ],
             [
              0.5555555555555556,
              "#d8576b"
             ],
             [
              0.6666666666666666,
              "#ed7953"
             ],
             [
              0.7777777777777778,
              "#fb9f3a"
             ],
             [
              0.8888888888888888,
              "#fdca26"
             ],
             [
              1,
              "#f0f921"
             ]
            ],
            "type": "heatmapgl"
           }
          ],
          "histogram": [
           {
            "marker": {
             "pattern": {
              "fillmode": "overlay",
              "size": 10,
              "solidity": 0.2
             }
            },
            "type": "histogram"
           }
          ],
          "histogram2d": [
           {
            "colorbar": {
             "outlinewidth": 0,
             "ticks": ""
            },
            "colorscale": [
             [
              0,
              "#0d0887"
             ],
             [
              0.1111111111111111,
              "#46039f"
             ],
             [
              0.2222222222222222,
              "#7201a8"
             ],
             [
              0.3333333333333333,
              "#9c179e"
             ],
             [
              0.4444444444444444,
              "#bd3786"
             ],
             [
              0.5555555555555556,
              "#d8576b"
             ],
             [
              0.6666666666666666,
              "#ed7953"
             ],
             [
              0.7777777777777778,
              "#fb9f3a"
             ],
             [
              0.8888888888888888,
              "#fdca26"
             ],
             [
              1,
              "#f0f921"
             ]
            ],
            "type": "histogram2d"
           }
          ],
          "histogram2dcontour": [
           {
            "colorbar": {
             "outlinewidth": 0,
             "ticks": ""
            },
            "colorscale": [
             [
              0,
              "#0d0887"
             ],
             [
              0.1111111111111111,
              "#46039f"
             ],
             [
              0.2222222222222222,
              "#7201a8"
             ],
             [
              0.3333333333333333,
              "#9c179e"
             ],
             [
              0.4444444444444444,
              "#bd3786"
             ],
             [
              0.5555555555555556,
              "#d8576b"
             ],
             [
              0.6666666666666666,
              "#ed7953"
             ],
             [
              0.7777777777777778,
              "#fb9f3a"
             ],
             [
              0.8888888888888888,
              "#fdca26"
             ],
             [
              1,
              "#f0f921"
             ]
            ],
            "type": "histogram2dcontour"
           }
          ],
          "mesh3d": [
           {
            "colorbar": {
             "outlinewidth": 0,
             "ticks": ""
            },
            "type": "mesh3d"
           }
          ],
          "parcoords": [
           {
            "line": {
             "colorbar": {
              "outlinewidth": 0,
              "ticks": ""
             }
            },
            "type": "parcoords"
           }
          ],
          "pie": [
           {
            "automargin": true,
            "type": "pie"
           }
          ],
          "scatter": [
           {
            "marker": {
             "line": {
              "color": "#283442"
             }
            },
            "type": "scatter"
           }
          ],
          "scatter3d": [
           {
            "line": {
             "colorbar": {
              "outlinewidth": 0,
              "ticks": ""
             }
            },
            "marker": {
             "colorbar": {
              "outlinewidth": 0,
              "ticks": ""
             }
            },
            "type": "scatter3d"
           }
          ],
          "scattercarpet": [
           {
            "marker": {
             "colorbar": {
              "outlinewidth": 0,
              "ticks": ""
             }
            },
            "type": "scattercarpet"
           }
          ],
          "scattergeo": [
           {
            "marker": {
             "colorbar": {
              "outlinewidth": 0,
              "ticks": ""
             }
            },
            "type": "scattergeo"
           }
          ],
          "scattergl": [
           {
            "marker": {
             "line": {
              "color": "#283442"
             }
            },
            "type": "scattergl"
           }
          ],
          "scattermapbox": [
           {
            "marker": {
             "colorbar": {
              "outlinewidth": 0,
              "ticks": ""
             }
            },
            "type": "scattermapbox"
           }
          ],
          "scatterpolar": [
           {
            "marker": {
             "colorbar": {
              "outlinewidth": 0,
              "ticks": ""
             }
            },
            "type": "scatterpolar"
           }
          ],
          "scatterpolargl": [
           {
            "marker": {
             "colorbar": {
              "outlinewidth": 0,
              "ticks": ""
             }
            },
            "type": "scatterpolargl"
           }
          ],
          "scatterternary": [
           {
            "marker": {
             "colorbar": {
              "outlinewidth": 0,
              "ticks": ""
             }
            },
            "type": "scatterternary"
           }
          ],
          "surface": [
           {
            "colorbar": {
             "outlinewidth": 0,
             "ticks": ""
            },
            "colorscale": [
             [
              0,
              "#0d0887"
             ],
             [
              0.1111111111111111,
              "#46039f"
             ],
             [
              0.2222222222222222,
              "#7201a8"
             ],
             [
              0.3333333333333333,
              "#9c179e"
             ],
             [
              0.4444444444444444,
              "#bd3786"
             ],
             [
              0.5555555555555556,
              "#d8576b"
             ],
             [
              0.6666666666666666,
              "#ed7953"
             ],
             [
              0.7777777777777778,
              "#fb9f3a"
             ],
             [
              0.8888888888888888,
              "#fdca26"
             ],
             [
              1,
              "#f0f921"
             ]
            ],
            "type": "surface"
           }
          ],
          "table": [
           {
            "cells": {
             "fill": {
              "color": "#506784"
             },
             "line": {
              "color": "rgb(17,17,17)"
             }
            },
            "header": {
             "fill": {
              "color": "#2a3f5f"
             },
             "line": {
              "color": "rgb(17,17,17)"
             }
            },
            "type": "table"
           }
          ]
         },
         "layout": {
          "annotationdefaults": {
           "arrowcolor": "#f2f5fa",
           "arrowhead": 0,
           "arrowwidth": 1
          },
          "autotypenumbers": "strict",
          "coloraxis": {
           "colorbar": {
            "outlinewidth": 0,
            "ticks": ""
           }
          },
          "colorscale": {
           "diverging": [
            [
             0,
             "#8e0152"
            ],
            [
             0.1,
             "#c51b7d"
            ],
            [
             0.2,
             "#de77ae"
            ],
            [
             0.3,
             "#f1b6da"
            ],
            [
             0.4,
             "#fde0ef"
            ],
            [
             0.5,
             "#f7f7f7"
            ],
            [
             0.6,
             "#e6f5d0"
            ],
            [
             0.7,
             "#b8e186"
            ],
            [
             0.8,
             "#7fbc41"
            ],
            [
             0.9,
             "#4d9221"
            ],
            [
             1,
             "#276419"
            ]
           ],
           "sequential": [
            [
             0,
             "#0d0887"
            ],
            [
             0.1111111111111111,
             "#46039f"
            ],
            [
             0.2222222222222222,
             "#7201a8"
            ],
            [
             0.3333333333333333,
             "#9c179e"
            ],
            [
             0.4444444444444444,
             "#bd3786"
            ],
            [
             0.5555555555555556,
             "#d8576b"
            ],
            [
             0.6666666666666666,
             "#ed7953"
            ],
            [
             0.7777777777777778,
             "#fb9f3a"
            ],
            [
             0.8888888888888888,
             "#fdca26"
            ],
            [
             1,
             "#f0f921"
            ]
           ],
           "sequentialminus": [
            [
             0,
             "#0d0887"
            ],
            [
             0.1111111111111111,
             "#46039f"
            ],
            [
             0.2222222222222222,
             "#7201a8"
            ],
            [
             0.3333333333333333,
             "#9c179e"
            ],
            [
             0.4444444444444444,
             "#bd3786"
            ],
            [
             0.5555555555555556,
             "#d8576b"
            ],
            [
             0.6666666666666666,
             "#ed7953"
            ],
            [
             0.7777777777777778,
             "#fb9f3a"
            ],
            [
             0.8888888888888888,
             "#fdca26"
            ],
            [
             1,
             "#f0f921"
            ]
           ]
          },
          "colorway": [
           "#636efa",
           "#EF553B",
           "#00cc96",
           "#ab63fa",
           "#FFA15A",
           "#19d3f3",
           "#FF6692",
           "#B6E880",
           "#FF97FF",
           "#FECB52"
          ],
          "font": {
           "color": "#f2f5fa"
          },
          "geo": {
           "bgcolor": "rgb(17,17,17)",
           "lakecolor": "rgb(17,17,17)",
           "landcolor": "rgb(17,17,17)",
           "showlakes": true,
           "showland": true,
           "subunitcolor": "#506784"
          },
          "hoverlabel": {
           "align": "left"
          },
          "hovermode": "closest",
          "mapbox": {
           "style": "dark"
          },
          "paper_bgcolor": "rgb(17,17,17)",
          "plot_bgcolor": "rgb(17,17,17)",
          "polar": {
           "angularaxis": {
            "gridcolor": "#506784",
            "linecolor": "#506784",
            "ticks": ""
           },
           "bgcolor": "rgb(17,17,17)",
           "radialaxis": {
            "gridcolor": "#506784",
            "linecolor": "#506784",
            "ticks": ""
           }
          },
          "scene": {
           "xaxis": {
            "backgroundcolor": "rgb(17,17,17)",
            "gridcolor": "#506784",
            "gridwidth": 2,
            "linecolor": "#506784",
            "showbackground": true,
            "ticks": "",
            "zerolinecolor": "#C8D4E3"
           },
           "yaxis": {
            "backgroundcolor": "rgb(17,17,17)",
            "gridcolor": "#506784",
            "gridwidth": 2,
            "linecolor": "#506784",
            "showbackground": true,
            "ticks": "",
            "zerolinecolor": "#C8D4E3"
           },
           "zaxis": {
            "backgroundcolor": "rgb(17,17,17)",
            "gridcolor": "#506784",
            "gridwidth": 2,
            "linecolor": "#506784",
            "showbackground": true,
            "ticks": "",
            "zerolinecolor": "#C8D4E3"
           }
          },
          "shapedefaults": {
           "line": {
            "color": "#f2f5fa"
           }
          },
          "sliderdefaults": {
           "bgcolor": "#C8D4E3",
           "bordercolor": "rgb(17,17,17)",
           "borderwidth": 1,
           "tickwidth": 0
          },
          "ternary": {
           "aaxis": {
            "gridcolor": "#506784",
            "linecolor": "#506784",
            "ticks": ""
           },
           "baxis": {
            "gridcolor": "#506784",
            "linecolor": "#506784",
            "ticks": ""
           },
           "bgcolor": "rgb(17,17,17)",
           "caxis": {
            "gridcolor": "#506784",
            "linecolor": "#506784",
            "ticks": ""
           }
          },
          "title": {
           "x": 0.05
          },
          "updatemenudefaults": {
           "bgcolor": "#506784",
           "borderwidth": 0
          },
          "xaxis": {
           "automargin": true,
           "gridcolor": "#283442",
           "linecolor": "#506784",
           "ticks": "",
           "title": {
            "standoff": 15
           },
           "zerolinecolor": "#283442",
           "zerolinewidth": 2
          },
          "yaxis": {
           "automargin": true,
           "gridcolor": "#283442",
           "linecolor": "#506784",
           "ticks": "",
           "title": {
            "standoff": 15
           },
           "zerolinecolor": "#283442",
           "zerolinewidth": 2
          }
         }
        },
        "title": {
         "text": "Weather Prediction and Safety Status"
        },
        "xaxis": {
         "autorange": true,
         "range": [
          -0.5,
          0.5
         ],
         "title": {
          "text": "Prediction"
         },
         "type": "category"
        },
        "yaxis": {
         "autorange": false,
         "range": [
          0,
          1.053
         ],
         "title": {
          "text": "Score"
         },
         "type": "linear"
        }
       }
      },
      "image/png": "[encoded data removed]",
      "text/html": [
       "<div>                            <div id=\"f667bf51-69b4-4ec0-9ed4-77bef80c8130\" class=\"plotly-graph-div\" style=\"height:525px; width:100%;\"></div>            <script type=\"text/javascript\">                require([\"plotly\"], function(Plotly) {                    window.PLOTLYENV=window.PLOTLYENV || {};                                    if (document.getElementById(\"f667bf51-69b4-4ec0-9ed4-77bef80c8130\")) {                    Plotly.newPlot(                        \"f667bf51-69b4-4ec0-9ed4-77bef80c8130\",                        [{\"marker\":{\"color\":\"blue\"},\"name\":\"Prediction Score\",\"x\":[\"Weather Safety Prediction\"],\"y\":[0.13492435216903687],\"type\":\"bar\"},{\"marker\":{\"color\":\"green\"},\"name\":\"Safety Status (Safe=1)\",\"x\":[\"Weather Safety Prediction\"],\"y\":[1],\"type\":\"bar\"}],                        {\"template\":{\"data\":{\"barpolar\":[{\"marker\":{\"line\":{\"color\":\"rgb(17,17,17)\",\"width\":0.5},\"pattern\":{\"fillmode\":\"overlay\",\"size\":10,\"solidity\":0.2}},\"type\":\"barpolar\"}],\"bar\":[{\"error_x\":{\"color\":\"#f2f5fa\"},\"error_y\":{\"color\":\"#f2f5fa\"},\"marker\":{\"line\":{\"color\":\"rgb(17,17,17)\",\"width\":0.5},\"pattern\":{\"fillmode\":\"overlay\",\"size\":10,\"solidity\":0.2}},\"type\":\"bar\"}],\"carpet\":[{\"aaxis\":{\"endlinecolor\":\"#A2B1C6\",\"gridcolor\":\"#506784\",\"linecolor\":\"#506784\",\"minorgridcolor\":\"#506784\",\"startlinecolor\":\"#A2B1C6\"},\"baxis\":{\"endlinecolor\":\"#A2B1C6\",\"gridcolor\":\"#506784\",\"linecolor\":\"#506784\",\"minorgridcolor\":\"#506784\",\"startlinecolor\":\"#A2B1C6\"},\"type\":\"carpet\"}],\"choropleth\":[{\"colorbar\":{\"outlinewidth\":0,\"ticks\":\"\"},\"type\":\"choropleth\"}],\"contourcarpet\":[{\"colorbar\":{\"outlinewidth\":0,\"ticks\":\"\"},\"type\":\"contourcarpet\"}],\"contour\":[{\"colorbar\":{\"outlinewidth\":0,\"ticks\":\"\"},\"colorscale\":[[0.0,\"#0d0887\"],[0.1111111111111111,\"#46039f\"],[0.2222222222222222,\"#7201a8\"],[0.3333333333333333,\"#9c179e\"],[0.4444444444444444,\"#bd3786\"],[0.5555555555555556,\"#d8576b\"],[0.6666666666666666,\"#ed7953\"],[0.7777777777777778,\"#fb9f3a\"],[0.8888888888888888,\"#fdca26\"],[1.0,\"#f0f921\"]],\"type\":\"contour\"}],\"heatmapgl\":[{\"colorbar\":{\"outlinewidth\":0,\"ticks\":\"\"},\"colorscale\":[[0.0,\"#0d0887\"],[0.1111111111111111,\"#46039f\"],[0.2222222222222222,\"#7201a8\"],[0.3333333333333333,\"#9c179e\"],[0.4444444444444444,\"#bd3786\"],[0.5555555555555556,\"#d8576b\"],[0.6666666666666666,\"#ed7953\"],[0.7777777777777778,\"#fb9f3a\"],[0.8888888888888888,\"#fdca26\"],[1.0,\"#f0f921\"]],\"type\":\"heatmapgl\"}],\"heatmap\":[{\"colorbar\":{\"outlinewidth\":0,\"ticks\":\"\"},\"colorscale\":[[0.0,\"#0d0887\"],[0.1111111111111111,\"#46039f\"],[0.2222222222222222,\"#7201a8\"],[0.3333333333333333,\"#9c179e\"],[0.4444444444444444,\"#bd3786\"],[0.5555555555555556,\"#d8576b\"],[0.6666666666666666,\"#ed7953\"],[0.7777777777777778,\"#fb9f3a\"],[0.8888888888888888,\"#fdca26\"],[1.0,\"#f0f921\"]],\"type\":\"heatmap\"}],\"histogram2dcontour\":[{\"colorbar\":{\"outlinewidth\":0,\"ticks\":\"\"},\"colorscale\":[[0.0,\"#0d0887\"],[0.1111111111111111,\"#46039f\"],[0.2222222222222222,\"#7201a8\"],[0.3333333333333333,\"#9c179e\"],[0.4444444444444444,\"#bd3786\"],[0.5555555555555556,\"#d8576b\"],[0.6666666666666666,\"#ed7953\"],[0.7777777777777778,\"#fb9f3a\"],[0.8888888888888888,\"#fdca26\"],[1.0,\"#f0f921\"]],\"type\":\"histogram2dcontour\"}],\"histogram2d\":[{\"colorbar\":{\"outlinewidth\":0,\"ticks\":\"\"},\"colorscale\":[[0.0,\"#0d0887\"],[0.1111111111111111,\"#46039f\"],[0.2222222222222222,\"#7201a8\"],[0.3333333333333333,\"#9c179e\"],[0.4444444444444444,\"#bd3786\"],[0.5555555555555556,\"#d8576b\"],[0.6666666666666666,\"#ed7953\"],[0.7777777777777778,\"#fb9f3a\"],[0.8888888888888888,\"#fdca26\"],[1.0,\"#f0f921\"]],\"type\":\"histogram2d\"}],\"histogram\":[{\"marker\":{\"pattern\":{\"fillmode\":\"overlay\",\"size\":10,\"solidity\":0.2}},\"type\":\"histogram\"}],\"mesh3d\":[{\"colorbar\":{\"outlinewidth\":0,\"ticks\":\"\"},\"type\":\"mesh3d\"}],\"parcoords\":[{\"line\":{\"colorbar\":{\"outlinewidth\":0,\"ticks\":\"\"}},\"type\":\"parcoords\"}],\"pie\":[{\"automargin\":true,\"type\":\"pie\"}],\"scatter3d\":[{\"line\":{\"colorbar\":{\"outlinewidth\":0,\"ticks\":\"\"}},\"marker\":{\"colorbar\":{\"outlinewidth\":0,\"ticks\":\"\"}},\"type\":\"scatter3d\"}],\"scattercarpet\":[{\"marker\":{\"colorbar\":{\"outlinewidth\":0,\"ticks\":\"\"}},\"type\":\"scattercarpet\"}],\"scattergeo\":[{\"marker\":{\"colorbar\":{\"outlinewidth\":0,\"ticks\":\"\"}},\"type\":\"scattergeo\"}],\"scattergl\":[{\"marker\":{\"line\":{\"color\":\"#283442\"}},\"type\":\"scattergl\"}],\"scattermapbox\":[{\"marker\":{\"colorbar\":{\"outlinewidth\":0,\"ticks\":\"\"}},\"type\":\"scattermapbox\"}],\"scatterpolargl\":[{\"marker\":{\"colorbar\":{\"outlinewidth\":0,\"ticks\":\"\"}},\"type\":\"scatterpolargl\"}],\"scatterpolar\":[{\"marker\":{\"colorbar\":{\"outlinewidth\":0,\"ticks\":\"\"}},\"type\":\"scatterpolar\"}],\"scatter\":[{\"marker\":{\"line\":{\"color\":\"#283442\"}},\"type\":\"scatter\"}],\"scatterternary\":[{\"marker\":{\"colorbar\":{\"outlinewidth\":0,\"ticks\":\"\"}},\"type\":\"scatterternary\"}],\"surface\":[{\"colorbar\":{\"outlinewidth\":0,\"ticks\":\"\"},\"colorscale\":[[0.0,\"#0d0887\"],[0.1111111111111111,\"#46039f\"],[0.2222222222222222,\"#7201a8\"],[0.3333333333333333,\"#9c179e\"],[0.4444444444444444,\"#bd3786\"],[0.5555555555555556,\"#d8576b\"],[0.6666666666666666,\"#ed7953\"],[0.7777777777777778,\"#fb9f3a\"],[0.8888888888888888,\"#fdca26\"],[1.0,\"#f0f921\"]],\"type\":\"surface\"}],\"table\":[{\"cells\":{\"fill\":{\"color\":\"#506784\"},\"line\":{\"color\":\"rgb(17,17,17)\"}},\"header\":{\"fill\":{\"color\":\"#2a3f5f\"},\"line\":{\"color\":\"rgb(17,17,17)\"}},\"type\":\"table\"}]},\"layout\":{\"annotationdefaults\":{\"arrowcolor\":\"#f2f5fa\",\"arrowhead\":0,\"arrowwidth\":1},\"autotypenumbers\":\"strict\",\"coloraxis\":{\"colorbar\":{\"outlinewidth\":0,\"ticks\":\"\"}},\"colorscale\":{\"diverging\":[[0,\"#8e0152\"],[0.1,\"#c51b7d\"],[0.2,\"#de77ae\"],[0.3,\"#f1b6da\"],[0.4,\"#fde0ef\"],[0.5,\"#f7f7f7\"],[0.6,\"#e6f5d0\"],[0.7,\"#b8e186\"],[0.8,\"#7fbc41\"],[0.9,\"#4d9221\"],[1,\"#276419\"]],\"sequential\":[[0.0,\"#0d0887\"],[0.1111111111111111,\"#46039f\"],[0.2222222222222222,\"#7201a8\"],[0.3333333333333333,\"#9c179e\"],[0.4444444444444444,\"#bd3786\"],[0.5555555555555556,\"#d8576b\"],[0.6666666666666666,\"#ed7953\"],[0.7777777777777778,\"#fb9f3a\"],[0.8888888888888888,\"#fdca26\"],[1.0,\"#f0f921\"]],\"sequentialminus\":[[0.0,\"#0d0887\"],[0.1111111111111111,\"#46039f\"],[0.2222222222222222,\"#7201a8\"],[0.3333333333333333,\"#9c179e\"],[0.4444444444444444,\"#bd3786\"],[0.5555555555555556,\"#d8576b\"],[0.6666666666666666,\"#ed7953\"],[0.7777777777777778,\"#fb9f3a\"],[0.8888888888888888,\"#fdca26\"],[1.0,\"#f0f921\"]]},\"colorway\":[\"#636efa\",\"#EF553B\",\"#00cc96\",\"#ab63fa\",\"#FFA15A\",\"#19d3f3\",\"#FF6692\",\"#B6E880\",\"#FF97FF\",\"#FECB52\"],\"font\":{\"color\":\"#f2f5fa\"},\"geo\":{\"bgcolor\":\"rgb(17,17,17)\",\"lakecolor\":\"rgb(17,17,17)\",\"landcolor\":\"rgb(17,17,17)\",\"showlakes\":true,\"showland\":true,\"subunitcolor\":\"#506784\"},\"hoverlabel\":{\"align\":\"left\"},\"hovermode\":\"closest\",\"mapbox\":{\"style\":\"dark\"},\"paper_bgcolor\":\"rgb(17,17,17)\",\"plot_bgcolor\":\"rgb(17,17,17)\",\"polar\":{\"angularaxis\":{\"gridcolor\":\"#506784\",\"linecolor\":\"#506784\",\"ticks\":\"\"},\"bgcolor\":\"rgb(17,17,17)\",\"radialaxis\":{\"gridcolor\":\"#506784\",\"linecolor\":\"#506784\",\"ticks\":\"\"}},\"scene\":{\"xaxis\":{\"backgroundcolor\":\"rgb(17,17,17)\",\"gridcolor\":\"#506784\",\"gridwidth\":2,\"linecolor\":\"#506784\",\"showbackground\":true,\"ticks\":\"\",\"zerolinecolor\":\"#C8D4E3\"},\"yaxis\":{\"backgroundcolor\":\"rgb(17,17,17)\",\"gridcolor\":\"#506784\",\"gridwidth\":2,\"linecolor\":\"#506784\",\"showbackground\":true,\"ticks\":\"\",\"zerolinecolor\":\"#C8D4E3\"},\"zaxis\":{\"backgroundcolor\":\"rgb(17,17,17)\",\"gridcolor\":\"#506784\",\"gridwidth\":2,\"linecolor\":\"#506784\",\"showbackground\":true,\"ticks\":\"\",\"zerolinecolor\":\"#C8D4E3\"}},\"shapedefaults\":{\"line\":{\"color\":\"#f2f5fa\"}},\"sliderdefaults\":{\"bgcolor\":\"#C8D4E3\",\"bordercolor\":\"rgb(17,17,17)\",\"borderwidth\":1,\"tickwidth\":0},\"ternary\":{\"aaxis\":{\"gridcolor\":\"#506784\",\"linecolor\":\"#506784\",\"ticks\":\"\"},\"baxis\":{\"gridcolor\":\"#506784\",\"linecolor\":\"#506784\",\"ticks\":\"\"},\"bgcolor\":\"rgb(17,17,17)\",\"caxis\":{\"gridcolor\":\"#506784\",\"linecolor\":\"#506784\",\"ticks\":\"\"}},\"title\":{\"x\":0.05},\"updatemenudefaults\":{\"bgcolor\":\"#506784\",\"borderwidth\":0},\"xaxis\":{\"automargin\":true,\"gridcolor\":\"#283442\",\"linecolor\":\"#506784\",\"ticks\":\"\",\"title\":{\"standoff\":15},\"zerolinecolor\":\"#283442\",\"zerolinewidth\":2},\"yaxis\":{\"automargin\":true,\"gridcolor\":\"#283442\",\"linecolor\":\"#506784\",\"ticks\":\"\",\"title\":{\"standoff\":15},\"zerolinecolor\":\"#283442\",\"zerolinewidth\":2}}},\"title\":{\"text\":\"Weather Prediction and Safety Status\"},\"xaxis\":{\"title\":{\"text\":\"Prediction\"}},\"yaxis\":{\"title\":{\"text\":\"Score\"}},\"barmode\":\"group\"},                        {\"responsive\": true}                    ).then(function(){\n",
       "                            \n",
       "var gd = document.getElementById('f667bf51-69b4-4ec0-9ed4-77bef80c8130');\n",
       "var x = new MutationObserver(function (mutations, observer) {{\n",
       "        var display = window.getComputedStyle(gd).display;\n",
       "        if (!display || display === 'none') {{\n",
       "            console.log([gd, 'removed!']);\n",
       "            Plotly.purge(gd);\n",
       "            observer.disconnect();\n",
       "        }}\n",
       "}});\n",
       "\n",
       "// Listen for the removal of the full notebook cells\n",
       "var notebookContainer = gd.closest('#notebook-container');\n",
       "if (notebookContainer) {{\n",
       "    x.observe(notebookContainer, {childList: true});\n",
       "}}\n",
       "\n",
       "// Listen for the clearing of the current output cell\n",
       "var outputEl = gd.closest('.output');\n",
       "if (outputEl) {{\n",
       "    x.observe(outputEl, {childList: true});\n",
       "}}\n",
       "\n",
       "                        })                };                });            </script>        </div>"
      ]
     },
     "metadata": {},
     "output_type": "display_data"
    }
   ],
   "source": [
    "import numpy as np\n",
    "from keras.models import load_model\n",
    "from sklearn.preprocessing import MinMaxScaler\n",
    "import plotly.graph_objects as go\n",
    "\n",
    "def predict_weather(wind_u10, temperature_t2m, precipitation_tp):\n",
    "    # Load the pre-trained model\n",
    "    model = load_model('weather_prediction_lstm.keras')\n",
    "\n",
    "    # Define the scaler used for training the model (dummy scaling)\n",
    "    scaler = MinMaxScaler(feature_range=(0, 1))\n",
    "\n",
    "    # Convert inputs\n",
    "    inputs = np.array([wind_u10, temperature_t2m, precipitation_tp]).reshape(1, 1, -1)\n",
    "\n",
    "    # Pad to match model's expected input shape (5 timesteps, 11 features)\n",
    "    padded_inputs = np.pad(inputs, ((0, 0), (0, 4), (0, 8)), mode='constant')\n",
    "\n",
    "    # Scale\n",
    "    inputs_scaled = scaler.fit_transform(padded_inputs.reshape(-1, 1)).reshape(padded_inputs.shape)\n",
    "\n",
    "    # Predict\n",
    "    predictions = model.predict(inputs_scaled)\n",
    "    print(f\"Predictions shape: {predictions.shape}\")\n",
    "    print(f\"Predictions: {predictions}\")\n",
    "\n",
    "    # Flatten predictions\n",
    "    prediction = predictions.flatten()[0]\n",
    "\n",
    "    # Classify prediction\n",
    "    def classify_prediction(prediction):\n",
    "        # You can design your own thresholds here\n",
    "        if prediction < 0.3:\n",
    "            status = 'Safe'\n",
    "        elif 0.3 <= prediction < 0.7:\n",
    "            status = 'Not Safe'\n",
    "        else:\n",
    "            status = 'Danger'\n",
    "        return status\n",
    "\n",
    "    status = classify_prediction(prediction)\n",
    "\n",
    "    # Print the result\n",
    "    print(f\"Predicted Safety Status: {status}\")\n",
    "\n",
    "    # Display the predictions graphically\n",
    "    fig = go.Figure()\n",
    "\n",
    "    fig.add_trace(go.Bar(\n",
    "        x=[\"Weather Safety Prediction\"],\n",
    "        y=[prediction],\n",
    "        name='Prediction Score',\n",
    "        marker_color='blue'\n",
    "    ))\n",
    "\n",
    "    fig.add_trace(go.Bar(\n",
    "        x=[\"Weather Safety Prediction\"],\n",
    "        y=[1 if status == 'Safe' else 0],\n",
    "        name='Safety Status (Safe=1)',\n",
    "        marker_color='green'\n",
    "    ))\n",
    "\n",
    "    fig.update_layout(\n",
    "        title=\"Weather Prediction and Safety Status\",\n",
    "        xaxis_title=\"Prediction\",\n",
    "        yaxis_title=\"Score\",\n",
    "        barmode=\"group\",\n",
    "        template=\"plotly_dark\"\n",
    "    )\n",
    "\n",
    "    fig.show()\n",
    "\n",
    "# Example usage\n",
    "predict_weather(3.0, 29.0, 2.0)\n"
   ]
  },
  {
   "cell_type": "code",
   "execution_count": 16,
   "id": "6ffc0382-8e8b-4d36-bce7-822daa6e6f12",
   "metadata": {},
   "outputs": [
    {
     "name": "stdout",
     "output_type": "stream",
     "text": [
      "WARNING:tensorflow:6 out of the last 6 calls to <function TensorFlowTrainer.make_predict_function.<locals>.one_step_on_data_distributed at 0x000001FF00139300> triggered tf.function retracing. Tracing is expensive and the excessive number of tracings could be due to (1) creating @tf.function repeatedly in a loop, (2) passing tensors with different shapes, (3) passing Python objects instead of tensors. For (1), please define your @tf.function outside of the loop. For (2), @tf.function has reduce_retracing=True option that can avoid unnecessary retracing. For (3), please refer to https://www.tensorflow.org/guide/function#controlling_retracing and https://www.tensorflow.org/api_docs/python/tf/function for  more details.\n",
      "\u001b[1m1/1\u001b[0m \u001b[32m━━━━━━━━━━━━━━━━━━━━\u001b[0m\u001b[37m\u001b[0m \u001b[1m1s\u001b[0m 723ms/step\n",
      "Predictions shape: (1, 1)\n",
      "Prediction value: 0.1215\n",
      "\n",
      "🛫 Aviation Weather Risk Assessment:\n",
      "   → Risk Status: Safe for Flight\n",
      "   → Based on Inputs - Wind: 5.0 m/s, Temperature: 290.0 K, Precipitation: 2.0 mm\n"
     ]
    },
    {
     "data": {
      "application/vnd.plotly.v1+json": {
       "config": {
        "plotlyServerURL": "https://plot.ly"
       },
       "data": [
        {
         "marker": {
          "color": "deepskyblue"
         },
         "name": "Input Weather Conditions",
         "type": "bar",
         "x": [
          "Wind Speed (m/s)",
          "Temperature (K)",
          "Precipitation (mm)"
         ],
         "y": [
          5,
          290,
          2
         ]
        },
        {
         "marker": {
          "color": "orangered"
         },
         "name": "Predicted Aviation Risk (%)",
         "type": "bar",
         "x": [
          "Predicted Risk Score"
         ],
         "y": [
          12.147673964500427
         ]
        }
       ],
       "layout": {
        "autosize": true,
        "barmode": "group",
        "template": {
         "data": {
          "bar": [
           {
            "error_x": {
             "color": "#f2f5fa"
            },
            "error_y": {
             "color": "#f2f5fa"
            },
            "marker": {
             "line": {
              "color": "rgb(17,17,17)",
              "width": 0.5
             },
             "pattern": {
              "fillmode": "overlay",
              "size": 10,
              "solidity": 0.2
             }
            },
            "type": "bar"
           }
          ],
          "barpolar": [
           {
            "marker": {
             "line": {
              "color": "rgb(17,17,17)",
              "width": 0.5
             },
             "pattern": {
              "fillmode": "overlay",
              "size": 10,
              "solidity": 0.2
             }
            },
            "type": "barpolar"
           }
          ],
          "carpet": [
           {
            "aaxis": {
             "endlinecolor": "#A2B1C6",
             "gridcolor": "#506784",
             "linecolor": "#506784",
             "minorgridcolor": "#506784",
             "startlinecolor": "#A2B1C6"
            },
            "baxis": {
             "endlinecolor": "#A2B1C6",
             "gridcolor": "#506784",
             "linecolor": "#506784",
             "minorgridcolor": "#506784",
             "startlinecolor": "#A2B1C6"
            },
            "type": "carpet"
           }
          ],
          "choropleth": [
           {
            "colorbar": {
             "outlinewidth": 0,
             "ticks": ""
            },
            "type": "choropleth"
           }
          ],
          "contour": [
           {
            "colorbar": {
             "outlinewidth": 0,
             "ticks": ""
            },
            "colorscale": [
             [
              0,
              "#0d0887"
             ],
             [
              0.1111111111111111,
              "#46039f"
             ],
             [
              0.2222222222222222,
              "#7201a8"
             ],
             [
              0.3333333333333333,
              "#9c179e"
             ],
             [
              0.4444444444444444,
              "#bd3786"
             ],
             [
              0.5555555555555556,
              "#d8576b"
             ],
             [
              0.6666666666666666,
              "#ed7953"
             ],
             [
              0.7777777777777778,
              "#fb9f3a"
             ],
             [
              0.8888888888888888,
              "#fdca26"
             ],
             [
              1,
              "#f0f921"
             ]
            ],
            "type": "contour"
           }
          ],
          "contourcarpet": [
           {
            "colorbar": {
             "outlinewidth": 0,
             "ticks": ""
            },
            "type": "contourcarpet"
           }
          ],
          "heatmap": [
           {
            "colorbar": {
             "outlinewidth": 0,
             "ticks": ""
            },
            "colorscale": [
             [
              0,
              "#0d0887"
             ],
             [
              0.1111111111111111,
              "#46039f"
             ],
             [
              0.2222222222222222,
              "#7201a8"
             ],
             [
              0.3333333333333333,
              "#9c179e"
             ],
             [
              0.4444444444444444,
              "#bd3786"
             ],
             [
              0.5555555555555556,
              "#d8576b"
             ],
             [
              0.6666666666666666,
              "#ed7953"
             ],
             [
              0.7777777777777778,
              "#fb9f3a"
             ],
             [
              0.8888888888888888,
              "#fdca26"
             ],
             [
              1,
              "#f0f921"
             ]
            ],
            "type": "heatmap"
           }
          ],
          "heatmapgl": [
           {
            "colorbar": {
             "outlinewidth": 0,
             "ticks": ""
            },
            "colorscale": [
             [
              0,
              "#0d0887"
             ],
             [
              0.1111111111111111,
              "#46039f"
             ],
             [
              0.2222222222222222,
              "#7201a8"
             ],
             [
              0.3333333333333333,
              "#9c179e"
             ],
             [
              0.4444444444444444,
              "#bd3786"
             ],
             [
              0.5555555555555556,
              "#d8576b"
             ],
             [
              0.6666666666666666,
              "#ed7953"
             ],
             [
              0.7777777777777778,
              "#fb9f3a"
             ],
             [
              0.8888888888888888,
              "#fdca26"
             ],
             [
              1,
              "#f0f921"
             ]
            ],
            "type": "heatmapgl"
           }
          ],
          "histogram": [
           {
            "marker": {
             "pattern": {
              "fillmode": "overlay",
              "size": 10,
              "solidity": 0.2
             }
            },
            "type": "histogram"
           }
          ],
          "histogram2d": [
           {
            "colorbar": {
             "outlinewidth": 0,
             "ticks": ""
            },
            "colorscale": [
             [
              0,
              "#0d0887"
             ],
             [
              0.1111111111111111,
              "#46039f"
             ],
             [
              0.2222222222222222,
              "#7201a8"
             ],
             [
              0.3333333333333333,
              "#9c179e"
             ],
             [
              0.4444444444444444,
              "#bd3786"
             ],
             [
              0.5555555555555556,
              "#d8576b"
             ],
             [
              0.6666666666666666,
              "#ed7953"
             ],
             [
              0.7777777777777778,
              "#fb9f3a"
             ],
             [
              0.8888888888888888,
              "#fdca26"
             ],
             [
              1,
              "#f0f921"
             ]
            ],
            "type": "histogram2d"
           }
          ],
          "histogram2dcontour": [
           {
            "colorbar": {
             "outlinewidth": 0,
             "ticks": ""
            },
            "colorscale": [
             [
              0,
              "#0d0887"
             ],
             [
              0.1111111111111111,
              "#46039f"
             ],
             [
              0.2222222222222222,
              "#7201a8"
             ],
             [
              0.3333333333333333,
              "#9c179e"
             ],
             [
              0.4444444444444444,
              "#bd3786"
             ],
             [
              0.5555555555555556,
              "#d8576b"
             ],
             [
              0.6666666666666666,
              "#ed7953"
             ],
             [
              0.7777777777777778,
              "#fb9f3a"
             ],
             [
              0.8888888888888888,
              "#fdca26"
             ],
             [
              1,
              "#f0f921"
             ]
            ],
            "type": "histogram2dcontour"
           }
          ],
          "mesh3d": [
           {
            "colorbar": {
             "outlinewidth": 0,
             "ticks": ""
            },
            "type": "mesh3d"
           }
          ],
          "parcoords": [
           {
            "line": {
             "colorbar": {
              "outlinewidth": 0,
              "ticks": ""
             }
            },
            "type": "parcoords"
           }
          ],
          "pie": [
           {
            "automargin": true,
            "type": "pie"
           }
          ],
          "scatter": [
           {
            "marker": {
             "line": {
              "color": "#283442"
             }
            },
            "type": "scatter"
           }
          ],
          "scatter3d": [
           {
            "line": {
             "colorbar": {
              "outlinewidth": 0,
              "ticks": ""
             }
            },
            "marker": {
             "colorbar": {
              "outlinewidth": 0,
              "ticks": ""
             }
            },
            "type": "scatter3d"
           }
          ],
          "scattercarpet": [
           {
            "marker": {
             "colorbar": {
              "outlinewidth": 0,
              "ticks": ""
             }
            },
            "type": "scattercarpet"
           }
          ],
          "scattergeo": [
           {
            "marker": {
             "colorbar": {
              "outlinewidth": 0,
              "ticks": ""
             }
            },
            "type": "scattergeo"
           }
          ],
          "scattergl": [
           {
            "marker": {
             "line": {
              "color": "#283442"
             }
            },
            "type": "scattergl"
           }
          ],
          "scattermapbox": [
           {
            "marker": {
             "colorbar": {
              "outlinewidth": 0,
              "ticks": ""
             }
            },
            "type": "scattermapbox"
           }
          ],
          "scatterpolar": [
           {
            "marker": {
             "colorbar": {
              "outlinewidth": 0,
              "ticks": ""
             }
            },
            "type": "scatterpolar"
           }
          ],
          "scatterpolargl": [
           {
            "marker": {
             "colorbar": {
              "outlinewidth": 0,
              "ticks": ""
             }
            },
            "type": "scatterpolargl"
           }
          ],
          "scatterternary": [
           {
            "marker": {
             "colorbar": {
              "outlinewidth": 0,
              "ticks": ""
             }
            },
            "type": "scatterternary"
           }
          ],
          "surface": [
           {
            "colorbar": {
             "outlinewidth": 0,
             "ticks": ""
            },
            "colorscale": [
             [
              0,
              "#0d0887"
             ],
             [
              0.1111111111111111,
              "#46039f"
             ],
             [
              0.2222222222222222,
              "#7201a8"
             ],
             [
              0.3333333333333333,
              "#9c179e"
             ],
             [
              0.4444444444444444,
              "#bd3786"
             ],
             [
              0.5555555555555556,
              "#d8576b"
             ],
             [
              0.6666666666666666,
              "#ed7953"
             ],
             [
              0.7777777777777778,
              "#fb9f3a"
             ],
             [
              0.8888888888888888,
              "#fdca26"
             ],
             [
              1,
              "#f0f921"
             ]
            ],
            "type": "surface"
           }
          ],
          "table": [
           {
            "cells": {
             "fill": {
              "color": "#506784"
             },
             "line": {
              "color": "rgb(17,17,17)"
             }
            },
            "header": {
             "fill": {
              "color": "#2a3f5f"
             },
             "line": {
              "color": "rgb(17,17,17)"
             }
            },
            "type": "table"
           }
          ]
         },
         "layout": {
          "annotationdefaults": {
           "arrowcolor": "#f2f5fa",
           "arrowhead": 0,
           "arrowwidth": 1
          },
          "autotypenumbers": "strict",
          "coloraxis": {
           "colorbar": {
            "outlinewidth": 0,
            "ticks": ""
           }
          },
          "colorscale": {
           "diverging": [
            [
             0,
             "#8e0152"
            ],
            [
             0.1,
             "#c51b7d"
            ],
            [
             0.2,
             "#de77ae"
            ],
            [
             0.3,
             "#f1b6da"
            ],
            [
             0.4,
             "#fde0ef"
            ],
            [
             0.5,
             "#f7f7f7"
            ],
            [
             0.6,
             "#e6f5d0"
            ],
            [
             0.7,
             "#b8e186"
            ],
            [
             0.8,
             "#7fbc41"
            ],
            [
             0.9,
             "#4d9221"
            ],
            [
             1,
             "#276419"
            ]
           ],
           "sequential": [
            [
             0,
             "#0d0887"
            ],
            [
             0.1111111111111111,
             "#46039f"
            ],
            [
             0.2222222222222222,
             "#7201a8"
            ],
            [
             0.3333333333333333,
             "#9c179e"
            ],
            [
             0.4444444444444444,
             "#bd3786"
            ],
            [
             0.5555555555555556,
             "#d8576b"
            ],
            [
             0.6666666666666666,
             "#ed7953"
            ],
            [
             0.7777777777777778,
             "#fb9f3a"
            ],
            [
             0.8888888888888888,
             "#fdca26"
            ],
            [
             1,
             "#f0f921"
            ]
           ],
           "sequentialminus": [
            [
             0,
             "#0d0887"
            ],
            [
             0.1111111111111111,
             "#46039f"
            ],
            [
             0.2222222222222222,
             "#7201a8"
            ],
            [
             0.3333333333333333,
             "#9c179e"
            ],
            [
             0.4444444444444444,
             "#bd3786"
            ],
            [
             0.5555555555555556,
             "#d8576b"
            ],
            [
             0.6666666666666666,
             "#ed7953"
            ],
            [
             0.7777777777777778,
             "#fb9f3a"
            ],
            [
             0.8888888888888888,
             "#fdca26"
            ],
            [
             1,
             "#f0f921"
            ]
           ]
          },
          "colorway": [
           "#636efa",
           "#EF553B",
           "#00cc96",
           "#ab63fa",
           "#FFA15A",
           "#19d3f3",
           "#FF6692",
           "#B6E880",
           "#FF97FF",
           "#FECB52"
          ],
          "font": {
           "color": "#f2f5fa"
          },
          "geo": {
           "bgcolor": "rgb(17,17,17)",
           "lakecolor": "rgb(17,17,17)",
           "landcolor": "rgb(17,17,17)",
           "showlakes": true,
           "showland": true,
           "subunitcolor": "#506784"
          },
          "hoverlabel": {
           "align": "left"
          },
          "hovermode": "closest",
          "mapbox": {
           "style": "dark"
          },
          "paper_bgcolor": "rgb(17,17,17)",
          "plot_bgcolor": "rgb(17,17,17)",
          "polar": {
           "angularaxis": {
            "gridcolor": "#506784",
            "linecolor": "#506784",
            "ticks": ""
           },
           "bgcolor": "rgb(17,17,17)",
           "radialaxis": {
            "gridcolor": "#506784",
            "linecolor": "#506784",
            "ticks": ""
           }
          },
          "scene": {
           "xaxis": {
            "backgroundcolor": "rgb(17,17,17)",
            "gridcolor": "#506784",
            "gridwidth": 2,
            "linecolor": "#506784",
            "showbackground": true,
            "ticks": "",
            "zerolinecolor": "#C8D4E3"
           },
           "yaxis": {
            "backgroundcolor": "rgb(17,17,17)",
            "gridcolor": "#506784",
            "gridwidth": 2,
            "linecolor": "#506784",
            "showbackground": true,
            "ticks": "",
            "zerolinecolor": "#C8D4E3"
           },
           "zaxis": {
            "backgroundcolor": "rgb(17,17,17)",
            "gridcolor": "#506784",
            "gridwidth": 2,
            "linecolor": "#506784",
            "showbackground": true,
            "ticks": "",
            "zerolinecolor": "#C8D4E3"
           }
          },
          "shapedefaults": {
           "line": {
            "color": "#f2f5fa"
           }
          },
          "sliderdefaults": {
           "bgcolor": "#C8D4E3",
           "bordercolor": "rgb(17,17,17)",
           "borderwidth": 1,
           "tickwidth": 0
          },
          "ternary": {
           "aaxis": {
            "gridcolor": "#506784",
            "linecolor": "#506784",
            "ticks": ""
           },
           "baxis": {
            "gridcolor": "#506784",
            "linecolor": "#506784",
            "ticks": ""
           },
           "bgcolor": "rgb(17,17,17)",
           "caxis": {
            "gridcolor": "#506784",
            "linecolor": "#506784",
            "ticks": ""
           }
          },
          "title": {
           "x": 0.05
          },
          "updatemenudefaults": {
           "bgcolor": "#506784",
           "borderwidth": 0
          },
          "xaxis": {
           "automargin": true,
           "gridcolor": "#283442",
           "linecolor": "#506784",
           "ticks": "",
           "title": {
            "standoff": 15
           },
           "zerolinecolor": "#283442",
           "zerolinewidth": 2
          },
          "yaxis": {
           "automargin": true,
           "gridcolor": "#283442",
           "linecolor": "#506784",
           "ticks": "",
           "title": {
            "standoff": 15
           },
           "zerolinecolor": "#283442",
           "zerolinewidth": 2
          }
         }
        },
        "title": {
         "text": "Weather Prediction for Aviation Safety"
        },
        "xaxis": {
         "autorange": true,
         "range": [
          -0.5,
          3.5
         ],
         "title": {
          "text": "Weather Parameters"
         },
         "type": "category"
        },
        "yaxis": {
         "autorange": true,
         "range": [
          0,
          305.2631578947368
         ],
         "title": {
          "text": "Value / Risk (%)"
         },
         "type": "linear"
        }
       }
      },
      "image/png": "[encoded data removed]",
      "text/html": [
       "<div>                            <div id=\"95713739-1d9c-4bdf-b50b-79c576deeed3\" class=\"plotly-graph-div\" style=\"height:600px; width:100%;\"></div>            <script type=\"text/javascript\">                require([\"plotly\"], function(Plotly) {                    window.PLOTLYENV=window.PLOTLYENV || {};                                    if (document.getElementById(\"95713739-1d9c-4bdf-b50b-79c576deeed3\")) {                    Plotly.newPlot(                        \"95713739-1d9c-4bdf-b50b-79c576deeed3\",                        [{\"marker\":{\"color\":\"deepskyblue\"},\"name\":\"Input Weather Conditions\",\"x\":[\"Wind Speed (m\\u002fs)\",\"Temperature (K)\",\"Precipitation (mm)\"],\"y\":[5.0,290.0,2.0],\"type\":\"bar\"},{\"marker\":{\"color\":\"orangered\"},\"name\":\"Predicted Aviation Risk (%)\",\"x\":[\"Predicted Risk Score\"],\"y\":[12.147673964500427],\"type\":\"bar\"}],                        {\"template\":{\"data\":{\"barpolar\":[{\"marker\":{\"line\":{\"color\":\"rgb(17,17,17)\",\"width\":0.5},\"pattern\":{\"fillmode\":\"overlay\",\"size\":10,\"solidity\":0.2}},\"type\":\"barpolar\"}],\"bar\":[{\"error_x\":{\"color\":\"#f2f5fa\"},\"error_y\":{\"color\":\"#f2f5fa\"},\"marker\":{\"line\":{\"color\":\"rgb(17,17,17)\",\"width\":0.5},\"pattern\":{\"fillmode\":\"overlay\",\"size\":10,\"solidity\":0.2}},\"type\":\"bar\"}],\"carpet\":[{\"aaxis\":{\"endlinecolor\":\"#A2B1C6\",\"gridcolor\":\"#506784\",\"linecolor\":\"#506784\",\"minorgridcolor\":\"#506784\",\"startlinecolor\":\"#A2B1C6\"},\"baxis\":{\"endlinecolor\":\"#A2B1C6\",\"gridcolor\":\"#506784\",\"linecolor\":\"#506784\",\"minorgridcolor\":\"#506784\",\"startlinecolor\":\"#A2B1C6\"},\"type\":\"carpet\"}],\"choropleth\":[{\"colorbar\":{\"outlinewidth\":0,\"ticks\":\"\"},\"type\":\"choropleth\"}],\"contourcarpet\":[{\"colorbar\":{\"outlinewidth\":0,\"ticks\":\"\"},\"type\":\"contourcarpet\"}],\"contour\":[{\"colorbar\":{\"outlinewidth\":0,\"ticks\":\"\"},\"colorscale\":[[0.0,\"#0d0887\"],[0.1111111111111111,\"#46039f\"],[0.2222222222222222,\"#7201a8\"],[0.3333333333333333,\"#9c179e\"],[0.4444444444444444,\"#bd3786\"],[0.5555555555555556,\"#d8576b\"],[0.6666666666666666,\"#ed7953\"],[0.7777777777777778,\"#fb9f3a\"],[0.8888888888888888,\"#fdca26\"],[1.0,\"#f0f921\"]],\"type\":\"contour\"}],\"heatmapgl\":[{\"colorbar\":{\"outlinewidth\":0,\"ticks\":\"\"},\"colorscale\":[[0.0,\"#0d0887\"],[0.1111111111111111,\"#46039f\"],[0.2222222222222222,\"#7201a8\"],[0.3333333333333333,\"#9c179e\"],[0.4444444444444444,\"#bd3786\"],[0.5555555555555556,\"#d8576b\"],[0.6666666666666666,\"#ed7953\"],[0.7777777777777778,\"#fb9f3a\"],[0.8888888888888888,\"#fdca26\"],[1.0,\"#f0f921\"]],\"type\":\"heatmapgl\"}],\"heatmap\":[{\"colorbar\":{\"outlinewidth\":0,\"ticks\":\"\"},\"colorscale\":[[0.0,\"#0d0887\"],[0.1111111111111111,\"#46039f\"],[0.2222222222222222,\"#7201a8\"],[0.3333333333333333,\"#9c179e\"],[0.4444444444444444,\"#bd3786\"],[0.5555555555555556,\"#d8576b\"],[0.6666666666666666,\"#ed7953\"],[0.7777777777777778,\"#fb9f3a\"],[0.8888888888888888,\"#fdca26\"],[1.0,\"#f0f921\"]],\"type\":\"heatmap\"}],\"histogram2dcontour\":[{\"colorbar\":{\"outlinewidth\":0,\"ticks\":\"\"},\"colorscale\":[[0.0,\"#0d0887\"],[0.1111111111111111,\"#46039f\"],[0.2222222222222222,\"#7201a8\"],[0.3333333333333333,\"#9c179e\"],[0.4444444444444444,\"#bd3786\"],[0.5555555555555556,\"#d8576b\"],[0.6666666666666666,\"#ed7953\"],[0.7777777777777778,\"#fb9f3a\"],[0.8888888888888888,\"#fdca26\"],[1.0,\"#f0f921\"]],\"type\":\"histogram2dcontour\"}],\"histogram2d\":[{\"colorbar\":{\"outlinewidth\":0,\"ticks\":\"\"},\"colorscale\":[[0.0,\"#0d0887\"],[0.1111111111111111,\"#46039f\"],[0.2222222222222222,\"#7201a8\"],[0.3333333333333333,\"#9c179e\"],[0.4444444444444444,\"#bd3786\"],[0.5555555555555556,\"#d8576b\"],[0.6666666666666666,\"#ed7953\"],[0.7777777777777778,\"#fb9f3a\"],[0.8888888888888888,\"#fdca26\"],[1.0,\"#f0f921\"]],\"type\":\"histogram2d\"}],\"histogram\":[{\"marker\":{\"pattern\":{\"fillmode\":\"overlay\",\"size\":10,\"solidity\":0.2}},\"type\":\"histogram\"}],\"mesh3d\":[{\"colorbar\":{\"outlinewidth\":0,\"ticks\":\"\"},\"type\":\"mesh3d\"}],\"parcoords\":[{\"line\":{\"colorbar\":{\"outlinewidth\":0,\"ticks\":\"\"}},\"type\":\"parcoords\"}],\"pie\":[{\"automargin\":true,\"type\":\"pie\"}],\"scatter3d\":[{\"line\":{\"colorbar\":{\"outlinewidth\":0,\"ticks\":\"\"}},\"marker\":{\"colorbar\":{\"outlinewidth\":0,\"ticks\":\"\"}},\"type\":\"scatter3d\"}],\"scattercarpet\":[{\"marker\":{\"colorbar\":{\"outlinewidth\":0,\"ticks\":\"\"}},\"type\":\"scattercarpet\"}],\"scattergeo\":[{\"marker\":{\"colorbar\":{\"outlinewidth\":0,\"ticks\":\"\"}},\"type\":\"scattergeo\"}],\"scattergl\":[{\"marker\":{\"line\":{\"color\":\"#283442\"}},\"type\":\"scattergl\"}],\"scattermapbox\":[{\"marker\":{\"colorbar\":{\"outlinewidth\":0,\"ticks\":\"\"}},\"type\":\"scattermapbox\"}],\"scatterpolargl\":[{\"marker\":{\"colorbar\":{\"outlinewidth\":0,\"ticks\":\"\"}},\"type\":\"scatterpolargl\"}],\"scatterpolar\":[{\"marker\":{\"colorbar\":{\"outlinewidth\":0,\"ticks\":\"\"}},\"type\":\"scatterpolar\"}],\"scatter\":[{\"marker\":{\"line\":{\"color\":\"#283442\"}},\"type\":\"scatter\"}],\"scatterternary\":[{\"marker\":{\"colorbar\":{\"outlinewidth\":0,\"ticks\":\"\"}},\"type\":\"scatterternary\"}],\"surface\":[{\"colorbar\":{\"outlinewidth\":0,\"ticks\":\"\"},\"colorscale\":[[0.0,\"#0d0887\"],[0.1111111111111111,\"#46039f\"],[0.2222222222222222,\"#7201a8\"],[0.3333333333333333,\"#9c179e\"],[0.4444444444444444,\"#bd3786\"],[0.5555555555555556,\"#d8576b\"],[0.6666666666666666,\"#ed7953\"],[0.7777777777777778,\"#fb9f3a\"],[0.8888888888888888,\"#fdca26\"],[1.0,\"#f0f921\"]],\"type\":\"surface\"}],\"table\":[{\"cells\":{\"fill\":{\"color\":\"#506784\"},\"line\":{\"color\":\"rgb(17,17,17)\"}},\"header\":{\"fill\":{\"color\":\"#2a3f5f\"},\"line\":{\"color\":\"rgb(17,17,17)\"}},\"type\":\"table\"}]},\"layout\":{\"annotationdefaults\":{\"arrowcolor\":\"#f2f5fa\",\"arrowhead\":0,\"arrowwidth\":1},\"autotypenumbers\":\"strict\",\"coloraxis\":{\"colorbar\":{\"outlinewidth\":0,\"ticks\":\"\"}},\"colorscale\":{\"diverging\":[[0,\"#8e0152\"],[0.1,\"#c51b7d\"],[0.2,\"#de77ae\"],[0.3,\"#f1b6da\"],[0.4,\"#fde0ef\"],[0.5,\"#f7f7f7\"],[0.6,\"#e6f5d0\"],[0.7,\"#b8e186\"],[0.8,\"#7fbc41\"],[0.9,\"#4d9221\"],[1,\"#276419\"]],\"sequential\":[[0.0,\"#0d0887\"],[0.1111111111111111,\"#46039f\"],[0.2222222222222222,\"#7201a8\"],[0.3333333333333333,\"#9c179e\"],[0.4444444444444444,\"#bd3786\"],[0.5555555555555556,\"#d8576b\"],[0.6666666666666666,\"#ed7953\"],[0.7777777777777778,\"#fb9f3a\"],[0.8888888888888888,\"#fdca26\"],[1.0,\"#f0f921\"]],\"sequentialminus\":[[0.0,\"#0d0887\"],[0.1111111111111111,\"#46039f\"],[0.2222222222222222,\"#7201a8\"],[0.3333333333333333,\"#9c179e\"],[0.4444444444444444,\"#bd3786\"],[0.5555555555555556,\"#d8576b\"],[0.6666666666666666,\"#ed7953\"],[0.7777777777777778,\"#fb9f3a\"],[0.8888888888888888,\"#fdca26\"],[1.0,\"#f0f921\"]]},\"colorway\":[\"#636efa\",\"#EF553B\",\"#00cc96\",\"#ab63fa\",\"#FFA15A\",\"#19d3f3\",\"#FF6692\",\"#B6E880\",\"#FF97FF\",\"#FECB52\"],\"font\":{\"color\":\"#f2f5fa\"},\"geo\":{\"bgcolor\":\"rgb(17,17,17)\",\"lakecolor\":\"rgb(17,17,17)\",\"landcolor\":\"rgb(17,17,17)\",\"showlakes\":true,\"showland\":true,\"subunitcolor\":\"#506784\"},\"hoverlabel\":{\"align\":\"left\"},\"hovermode\":\"closest\",\"mapbox\":{\"style\":\"dark\"},\"paper_bgcolor\":\"rgb(17,17,17)\",\"plot_bgcolor\":\"rgb(17,17,17)\",\"polar\":{\"angularaxis\":{\"gridcolor\":\"#506784\",\"linecolor\":\"#506784\",\"ticks\":\"\"},\"bgcolor\":\"rgb(17,17,17)\",\"radialaxis\":{\"gridcolor\":\"#506784\",\"linecolor\":\"#506784\",\"ticks\":\"\"}},\"scene\":{\"xaxis\":{\"backgroundcolor\":\"rgb(17,17,17)\",\"gridcolor\":\"#506784\",\"gridwidth\":2,\"linecolor\":\"#506784\",\"showbackground\":true,\"ticks\":\"\",\"zerolinecolor\":\"#C8D4E3\"},\"yaxis\":{\"backgroundcolor\":\"rgb(17,17,17)\",\"gridcolor\":\"#506784\",\"gridwidth\":2,\"linecolor\":\"#506784\",\"showbackground\":true,\"ticks\":\"\",\"zerolinecolor\":\"#C8D4E3\"},\"zaxis\":{\"backgroundcolor\":\"rgb(17,17,17)\",\"gridcolor\":\"#506784\",\"gridwidth\":2,\"linecolor\":\"#506784\",\"showbackground\":true,\"ticks\":\"\",\"zerolinecolor\":\"#C8D4E3\"}},\"shapedefaults\":{\"line\":{\"color\":\"#f2f5fa\"}},\"sliderdefaults\":{\"bgcolor\":\"#C8D4E3\",\"bordercolor\":\"rgb(17,17,17)\",\"borderwidth\":1,\"tickwidth\":0},\"ternary\":{\"aaxis\":{\"gridcolor\":\"#506784\",\"linecolor\":\"#506784\",\"ticks\":\"\"},\"baxis\":{\"gridcolor\":\"#506784\",\"linecolor\":\"#506784\",\"ticks\":\"\"},\"bgcolor\":\"rgb(17,17,17)\",\"caxis\":{\"gridcolor\":\"#506784\",\"linecolor\":\"#506784\",\"ticks\":\"\"}},\"title\":{\"x\":0.05},\"updatemenudefaults\":{\"bgcolor\":\"#506784\",\"borderwidth\":0},\"xaxis\":{\"automargin\":true,\"gridcolor\":\"#283442\",\"linecolor\":\"#506784\",\"ticks\":\"\",\"title\":{\"standoff\":15},\"zerolinecolor\":\"#283442\",\"zerolinewidth\":2},\"yaxis\":{\"automargin\":true,\"gridcolor\":\"#283442\",\"linecolor\":\"#506784\",\"ticks\":\"\",\"title\":{\"standoff\":15},\"zerolinecolor\":\"#283442\",\"zerolinewidth\":2}}},\"title\":{\"text\":\"Weather Prediction for Aviation Safety\"},\"xaxis\":{\"title\":{\"text\":\"Weather Parameters\"}},\"yaxis\":{\"title\":{\"text\":\"Value \\u002f Risk (%)\"}},\"barmode\":\"group\",\"height\":600},                        {\"responsive\": true}                    ).then(function(){\n",
       "                            \n",
       "var gd = document.getElementById('95713739-1d9c-4bdf-b50b-79c576deeed3');\n",
       "var x = new MutationObserver(function (mutations, observer) {{\n",
       "        var display = window.getComputedStyle(gd).display;\n",
       "        if (!display || display === 'none') {{\n",
       "            console.log([gd, 'removed!']);\n",
       "            Plotly.purge(gd);\n",
       "            observer.disconnect();\n",
       "        }}\n",
       "}});\n",
       "\n",
       "// Listen for the removal of the full notebook cells\n",
       "var notebookContainer = gd.closest('#notebook-container');\n",
       "if (notebookContainer) {{\n",
       "    x.observe(notebookContainer, {childList: true});\n",
       "}}\n",
       "\n",
       "// Listen for the clearing of the current output cell\n",
       "var outputEl = gd.closest('.output');\n",
       "if (outputEl) {{\n",
       "    x.observe(outputEl, {childList: true});\n",
       "}}\n",
       "\n",
       "                        })                };                });            </script>        </div>"
      ]
     },
     "metadata": {},
     "output_type": "display_data"
    }
   ],
   "source": [
    "# Weather Prediction for Aviation Safety\n",
    "# Hackathon Project - SpaceTech and Aerospace Track\n",
    "\n",
    "import numpy as np\n",
    "from keras.models import load_model\n",
    "from sklearn.preprocessing import MinMaxScaler\n",
    "import plotly.graph_objects as go\n",
    "\n",
    "def predict_weather_for_aviation(wind_u10, temperature_t2m, precipitation_tp):\n",
    "    \"\"\"\n",
    "    Predict extreme weather risk for aviation using a pre-trained LSTM model.\n",
    "    Classify the conditions into Safe, Caution, or Danger for flight safety.\n",
    "    \"\"\"\n",
    "\n",
    "    # Load the pre-trained deep learning model\n",
    "    model = load_model('weather_prediction_lstm.keras')\n",
    "\n",
    "    # Define MinMaxScaler (assumed to be used during model training)\n",
    "    scaler = MinMaxScaler(feature_range=(0, 1))\n",
    "\n",
    "    # Prepare the input: reshape to (batch_size, time_steps, features)\n",
    "    inputs = np.array([wind_u10, temperature_t2m, precipitation_tp]).reshape(1, 1, -1)\n",
    "\n",
    "    # Pad input to match expected shape: (1, 5 timesteps, 11 features)\n",
    "    padded_inputs = np.pad(inputs, ((0, 0), (0, 4), (0, 8)), mode='constant')\n",
    "\n",
    "    # Scale input features\n",
    "    inputs_scaled = scaler.fit_transform(padded_inputs.reshape(-1, 1)).reshape(padded_inputs.shape)\n",
    "\n",
    "    # Predict using the LSTM model\n",
    "    predictions = model.predict(inputs_scaled)\n",
    "    \n",
    "    print(f\"Predictions shape: {predictions.shape}\")\n",
    "    print(f\"Prediction value: {predictions.flatten()[0]:.4f}\")\n",
    "\n",
    "    # Extract prediction value\n",
    "    prediction_score = predictions.flatten()[0]\n",
    "\n",
    "    # Define risk classification based on prediction score\n",
    "    def classify_risk(score):\n",
    "        \"\"\"\n",
    "        Classify the weather risk for aviation based on prediction score.\n",
    "        \"\"\"\n",
    "        if score < 0.3:\n",
    "            return 'Safe for Flight'\n",
    "        elif 0.3 <= score < 0.7:\n",
    "            return 'Caution: Monitor Conditions'\n",
    "        else:\n",
    "            return 'Danger: Avoid Flight'\n",
    "\n",
    "    # Get risk status\n",
    "    aviation_risk_status = classify_risk(prediction_score)\n",
    "\n",
    "    # Display the classification\n",
    "    print(\"\\n🛫 Aviation Weather Risk Assessment:\")\n",
    "    print(f\"   → Risk Status: {aviation_risk_status}\")\n",
    "    print(f\"   → Based on Inputs - Wind: {wind_u10} m/s, Temperature: {temperature_t2m} K, Precipitation: {precipitation_tp} mm\")\n",
    "\n",
    "    # Visualization\n",
    "    fig = go.Figure()\n",
    "\n",
    "    # Input conditions\n",
    "    fig.add_trace(go.Bar(\n",
    "        x=[\"Wind Speed (m/s)\", \"Temperature (K)\", \"Precipitation (mm)\"],\n",
    "        y=[wind_u10, temperature_t2m, precipitation_tp],\n",
    "        name='Input Weather Conditions',\n",
    "        marker_color='deepskyblue'\n",
    "    ))\n",
    "\n",
    "    # Risk Prediction Score\n",
    "    fig.add_trace(go.Bar(\n",
    "        x=[\"Predicted Risk Score\"],\n",
    "        y=[prediction_score * 100],  # show as percentage\n",
    "        name='Predicted Aviation Risk (%)',\n",
    "        marker_color='orangered'\n",
    "    ))\n",
    "\n",
    "    fig.update_layout(\n",
    "        title=\"Weather Prediction for Aviation Safety\",\n",
    "        xaxis_title=\"Weather Parameters\",\n",
    "        yaxis_title=\"Value / Risk (%)\",\n",
    "        barmode=\"group\",\n",
    "        template=\"plotly_dark\",\n",
    "        height=600\n",
    "    )\n",
    "\n",
    "    fig.show()\n",
    "\n",
    "# Example: Test the function with real values\n",
    "predict_weather_for_aviation(5.0, 290.0, 2.0)\n"
   ]
  },
  {
   "cell_type": "code",
   "execution_count": null,
   "id": "3c5caffc-467f-4517-80bb-ce8d1949b78a",
   "metadata": {},
   "outputs": [],
   "source": []
  },
  {
   "cell_type": "code",
   "execution_count": null,
   "id": "774a5843-fc57-4603-8412-ee9bdbda2f61",
   "metadata": {},
   "outputs": [],
   "source": []
  },
  {
   "cell_type": "code",
   "execution_count": null,
   "id": "71288ce2-428f-4244-b54b-d00d67078b94",
   "metadata": {},
   "outputs": [],
   "source": []
  },
  {
   "cell_type": "code",
   "execution_count": 1,
   "id": "03427bd8-18e0-400d-a2e6-629f1c1fdbd6",
   "metadata": {},
   "outputs": [],
   "source": [
    "import pandas as pd"
   ]
  },
  {
   "cell_type": "code",
   "execution_count": 2,
   "id": "39469632-ba57-48a1-af9a-bfd3cc747c5a",
   "metadata": {},
   "outputs": [],
   "source": [
    "data=pd.read_csv('A5125500445.csv')"
   ]
  },
  {
   "cell_type": "code",
   "execution_count": 3,
   "id": "2be50951-ce8c-4023-a863-d15be202b6b6",
   "metadata": {},
   "outputs": [
    {
     "data": {
      "text/html": [
       "<div>\n",
       "<style scoped>\n",
       "    .dataframe tbody tr th:only-of-type {\n",
       "        vertical-align: middle;\n",
       "    }\n",
       "\n",
       "    .dataframe tbody tr th {\n",
       "        vertical-align: top;\n",
       "    }\n",
       "\n",
       "    .dataframe thead th {\n",
       "        text-align: right;\n",
       "    }\n",
       "</style>\n",
       "<table border=\"1\" class=\"dataframe\">\n",
       "  <thead>\n",
       "    <tr style=\"text-align: right;\">\n",
       "      <th></th>\n",
       "      <th>STATION</th>\n",
       "      <th>DATE</th>\n",
       "      <th>SOURCE</th>\n",
       "      <th>LATITUDE</th>\n",
       "      <th>LONGITUDE</th>\n",
       "      <th>ELEVATION</th>\n",
       "      <th>NAME</th>\n",
       "      <th>REPORT_TYPE</th>\n",
       "      <th>CALL_SIGN</th>\n",
       "      <th>QUALITY_CONTROL</th>\n",
       "      <th>...</th>\n",
       "      <th>GA2</th>\n",
       "      <th>GA3</th>\n",
       "      <th>GD1</th>\n",
       "      <th>GD2</th>\n",
       "      <th>GD3</th>\n",
       "      <th>MA1</th>\n",
       "      <th>MW1</th>\n",
       "      <th>OC1</th>\n",
       "      <th>REM</th>\n",
       "      <th>EQD</th>\n",
       "    </tr>\n",
       "  </thead>\n",
       "  <tbody>\n",
       "    <tr>\n",
       "      <th>0</th>\n",
       "      <td>A5125500445</td>\n",
       "      <td>2025-01-01T05:15:00</td>\n",
       "      <td>6</td>\n",
       "      <td>32.46383</td>\n",
       "      <td>-87.95405</td>\n",
       "      <td>34.1</td>\n",
       "      <td>DEMOPOLIS MUNICIPAL AIRPORT, AL US</td>\n",
       "      <td>FM-15</td>\n",
       "      <td>KDYA</td>\n",
       "      <td>V020</td>\n",
       "      <td>...</td>\n",
       "      <td>NaN</td>\n",
       "      <td>NaN</td>\n",
       "      <td>0,99,1,+99999,9,9</td>\n",
       "      <td>NaN</td>\n",
       "      <td>NaN</td>\n",
       "      <td>10190,5,10149,5</td>\n",
       "      <td>NaN</td>\n",
       "      <td>NaN</td>\n",
       "      <td>MET08312/31/24 23:15:02 METAR KDYA 010515Z 330...</td>\n",
       "      <td>R01  00817TMP028</td>\n",
       "    </tr>\n",
       "    <tr>\n",
       "      <th>1</th>\n",
       "      <td>A5125500445</td>\n",
       "      <td>2025-01-01T05:35:00</td>\n",
       "      <td>6</td>\n",
       "      <td>32.46383</td>\n",
       "      <td>-87.95405</td>\n",
       "      <td>34.1</td>\n",
       "      <td>DEMOPOLIS MUNICIPAL AIRPORT, AL US</td>\n",
       "      <td>FM-15</td>\n",
       "      <td>KDYA</td>\n",
       "      <td>V020</td>\n",
       "      <td>...</td>\n",
       "      <td>NaN</td>\n",
       "      <td>NaN</td>\n",
       "      <td>0,99,1,+99999,9,9</td>\n",
       "      <td>NaN</td>\n",
       "      <td>NaN</td>\n",
       "      <td>10193,5,10152,5</td>\n",
       "      <td>NaN</td>\n",
       "      <td>NaN</td>\n",
       "      <td>MET08312/31/24 23:35:02 METAR KDYA 010535Z 330...</td>\n",
       "      <td>NaN</td>\n",
       "    </tr>\n",
       "    <tr>\n",
       "      <th>2</th>\n",
       "      <td>A5125500445</td>\n",
       "      <td>2025-01-01T05:55:00</td>\n",
       "      <td>6</td>\n",
       "      <td>32.46383</td>\n",
       "      <td>-87.95405</td>\n",
       "      <td>34.1</td>\n",
       "      <td>DEMOPOLIS MUNICIPAL AIRPORT, AL US</td>\n",
       "      <td>FM-15</td>\n",
       "      <td>KDYA</td>\n",
       "      <td>V020</td>\n",
       "      <td>...</td>\n",
       "      <td>NaN</td>\n",
       "      <td>NaN</td>\n",
       "      <td>0,99,1,+99999,9,9</td>\n",
       "      <td>NaN</td>\n",
       "      <td>NaN</td>\n",
       "      <td>10193,5,10152,5</td>\n",
       "      <td>NaN</td>\n",
       "      <td>NaN</td>\n",
       "      <td>MET10512/31/24 23:55:02 METAR KDYA 010555Z 320...</td>\n",
       "      <td>NaN</td>\n",
       "    </tr>\n",
       "    <tr>\n",
       "      <th>3</th>\n",
       "      <td>A5125500445</td>\n",
       "      <td>2025-01-01T06:15:00</td>\n",
       "      <td>6</td>\n",
       "      <td>32.46383</td>\n",
       "      <td>-87.95405</td>\n",
       "      <td>34.1</td>\n",
       "      <td>DEMOPOLIS MUNICIPAL AIRPORT, AL US</td>\n",
       "      <td>FM-15</td>\n",
       "      <td>KDYA</td>\n",
       "      <td>V020</td>\n",
       "      <td>...</td>\n",
       "      <td>NaN</td>\n",
       "      <td>NaN</td>\n",
       "      <td>0,99,1,+99999,9,9</td>\n",
       "      <td>NaN</td>\n",
       "      <td>NaN</td>\n",
       "      <td>10196,5,10155,5</td>\n",
       "      <td>NaN</td>\n",
       "      <td>NaN</td>\n",
       "      <td>MET08301/01/25 00:15:02 METAR KDYA 010615Z 290...</td>\n",
       "      <td>NaN</td>\n",
       "    </tr>\n",
       "    <tr>\n",
       "      <th>4</th>\n",
       "      <td>A5125500445</td>\n",
       "      <td>2025-01-01T06:35:00</td>\n",
       "      <td>6</td>\n",
       "      <td>32.46383</td>\n",
       "      <td>-87.95405</td>\n",
       "      <td>34.1</td>\n",
       "      <td>DEMOPOLIS MUNICIPAL AIRPORT, AL US</td>\n",
       "      <td>FM-15</td>\n",
       "      <td>KDYA</td>\n",
       "      <td>V020</td>\n",
       "      <td>...</td>\n",
       "      <td>NaN</td>\n",
       "      <td>NaN</td>\n",
       "      <td>0,99,1,+99999,9,9</td>\n",
       "      <td>NaN</td>\n",
       "      <td>NaN</td>\n",
       "      <td>10200,5,10159,5</td>\n",
       "      <td>NaN</td>\n",
       "      <td>NaN</td>\n",
       "      <td>MET08301/01/25 00:35:02 METAR KDYA 010635Z 300...</td>\n",
       "      <td>NaN</td>\n",
       "    </tr>\n",
       "    <tr>\n",
       "      <th>...</th>\n",
       "      <td>...</td>\n",
       "      <td>...</td>\n",
       "      <td>...</td>\n",
       "      <td>...</td>\n",
       "      <td>...</td>\n",
       "      <td>...</td>\n",
       "      <td>...</td>\n",
       "      <td>...</td>\n",
       "      <td>...</td>\n",
       "      <td>...</td>\n",
       "      <td>...</td>\n",
       "      <td>...</td>\n",
       "      <td>...</td>\n",
       "      <td>...</td>\n",
       "      <td>...</td>\n",
       "      <td>...</td>\n",
       "      <td>...</td>\n",
       "      <td>...</td>\n",
       "      <td>...</td>\n",
       "      <td>...</td>\n",
       "      <td>...</td>\n",
       "    </tr>\n",
       "    <tr>\n",
       "      <th>6781</th>\n",
       "      <td>A5125500445</td>\n",
       "      <td>2025-04-25T06:35:00</td>\n",
       "      <td>6</td>\n",
       "      <td>32.46383</td>\n",
       "      <td>-87.95405</td>\n",
       "      <td>34.1</td>\n",
       "      <td>DEMOPOLIS MUNICIPAL AIRPORT, AL US</td>\n",
       "      <td>FM-15</td>\n",
       "      <td>KDYA</td>\n",
       "      <td>V020</td>\n",
       "      <td>...</td>\n",
       "      <td>NaN</td>\n",
       "      <td>NaN</td>\n",
       "      <td>0,99,1,+99999,9,9</td>\n",
       "      <td>NaN</td>\n",
       "      <td>NaN</td>\n",
       "      <td>10186,5,10145,5</td>\n",
       "      <td>NaN</td>\n",
       "      <td>NaN</td>\n",
       "      <td>MET08304/25/25 00:35:01 METAR KDYA 250635Z 000...</td>\n",
       "      <td>NaN</td>\n",
       "    </tr>\n",
       "    <tr>\n",
       "      <th>6782</th>\n",
       "      <td>A5125500445</td>\n",
       "      <td>2025-04-25T06:55:00</td>\n",
       "      <td>6</td>\n",
       "      <td>32.46383</td>\n",
       "      <td>-87.95405</td>\n",
       "      <td>34.1</td>\n",
       "      <td>DEMOPOLIS MUNICIPAL AIRPORT, AL US</td>\n",
       "      <td>FM-15</td>\n",
       "      <td>KDYA</td>\n",
       "      <td>V020</td>\n",
       "      <td>...</td>\n",
       "      <td>NaN</td>\n",
       "      <td>NaN</td>\n",
       "      <td>0,99,1,+99999,9,9</td>\n",
       "      <td>NaN</td>\n",
       "      <td>NaN</td>\n",
       "      <td>10183,5,10142,5</td>\n",
       "      <td>NaN</td>\n",
       "      <td>NaN</td>\n",
       "      <td>MET08304/25/25 00:55:01 METAR KDYA 250655Z 000...</td>\n",
       "      <td>NaN</td>\n",
       "    </tr>\n",
       "    <tr>\n",
       "      <th>6783</th>\n",
       "      <td>A5125500445</td>\n",
       "      <td>2025-04-25T07:15:00</td>\n",
       "      <td>6</td>\n",
       "      <td>32.46383</td>\n",
       "      <td>-87.95405</td>\n",
       "      <td>34.1</td>\n",
       "      <td>DEMOPOLIS MUNICIPAL AIRPORT, AL US</td>\n",
       "      <td>FM-15</td>\n",
       "      <td>KDYA</td>\n",
       "      <td>V020</td>\n",
       "      <td>...</td>\n",
       "      <td>NaN</td>\n",
       "      <td>NaN</td>\n",
       "      <td>0,99,1,+99999,9,9</td>\n",
       "      <td>NaN</td>\n",
       "      <td>NaN</td>\n",
       "      <td>10183,5,10142,5</td>\n",
       "      <td>NaN</td>\n",
       "      <td>NaN</td>\n",
       "      <td>MET08304/25/25 01:15:01 METAR KDYA 250715Z 000...</td>\n",
       "      <td>NaN</td>\n",
       "    </tr>\n",
       "    <tr>\n",
       "      <th>6784</th>\n",
       "      <td>A5125500445</td>\n",
       "      <td>2025-04-25T07:35:00</td>\n",
       "      <td>6</td>\n",
       "      <td>32.46383</td>\n",
       "      <td>-87.95405</td>\n",
       "      <td>34.1</td>\n",
       "      <td>DEMOPOLIS MUNICIPAL AIRPORT, AL US</td>\n",
       "      <td>FM-15</td>\n",
       "      <td>KDYA</td>\n",
       "      <td>V020</td>\n",
       "      <td>...</td>\n",
       "      <td>NaN</td>\n",
       "      <td>NaN</td>\n",
       "      <td>0,99,1,+99999,9,9</td>\n",
       "      <td>NaN</td>\n",
       "      <td>NaN</td>\n",
       "      <td>10179,5,10139,5</td>\n",
       "      <td>NaN</td>\n",
       "      <td>NaN</td>\n",
       "      <td>MET08304/25/25 01:35:01 METAR KDYA 250735Z 150...</td>\n",
       "      <td>NaN</td>\n",
       "    </tr>\n",
       "    <tr>\n",
       "      <th>6785</th>\n",
       "      <td>A5125500445</td>\n",
       "      <td>2025-04-25T07:55:00</td>\n",
       "      <td>6</td>\n",
       "      <td>32.46383</td>\n",
       "      <td>-87.95405</td>\n",
       "      <td>34.1</td>\n",
       "      <td>DEMOPOLIS MUNICIPAL AIRPORT, AL US</td>\n",
       "      <td>FM-15</td>\n",
       "      <td>KDYA</td>\n",
       "      <td>V020</td>\n",
       "      <td>...</td>\n",
       "      <td>NaN</td>\n",
       "      <td>NaN</td>\n",
       "      <td>0,99,1,+99999,9,9</td>\n",
       "      <td>NaN</td>\n",
       "      <td>NaN</td>\n",
       "      <td>10183,5,10142,5</td>\n",
       "      <td>NaN</td>\n",
       "      <td>NaN</td>\n",
       "      <td>MET08304/25/25 01:55:01 METAR KDYA 250755Z 000...</td>\n",
       "      <td>NaN</td>\n",
       "    </tr>\n",
       "  </tbody>\n",
       "</table>\n",
       "<p>6786 rows × 34 columns</p>\n",
       "</div>"
      ],
      "text/plain": [
       "          STATION                 DATE SOURCE  LATITUDE  LONGITUDE  ELEVATION  \\\n",
       "0     A5125500445  2025-01-01T05:15:00      6  32.46383  -87.95405       34.1   \n",
       "1     A5125500445  2025-01-01T05:35:00      6  32.46383  -87.95405       34.1   \n",
       "2     A5125500445  2025-01-01T05:55:00      6  32.46383  -87.95405       34.1   \n",
       "3     A5125500445  2025-01-01T06:15:00      6  32.46383  -87.95405       34.1   \n",
       "4     A5125500445  2025-01-01T06:35:00      6  32.46383  -87.95405       34.1   \n",
       "...           ...                  ...    ...       ...        ...        ...   \n",
       "6781  A5125500445  2025-04-25T06:35:00      6  32.46383  -87.95405       34.1   \n",
       "6782  A5125500445  2025-04-25T06:55:00      6  32.46383  -87.95405       34.1   \n",
       "6783  A5125500445  2025-04-25T07:15:00      6  32.46383  -87.95405       34.1   \n",
       "6784  A5125500445  2025-04-25T07:35:00      6  32.46383  -87.95405       34.1   \n",
       "6785  A5125500445  2025-04-25T07:55:00      6  32.46383  -87.95405       34.1   \n",
       "\n",
       "                                    NAME REPORT_TYPE CALL_SIGN  \\\n",
       "0     DEMOPOLIS MUNICIPAL AIRPORT, AL US       FM-15     KDYA    \n",
       "1     DEMOPOLIS MUNICIPAL AIRPORT, AL US       FM-15     KDYA    \n",
       "2     DEMOPOLIS MUNICIPAL AIRPORT, AL US       FM-15     KDYA    \n",
       "3     DEMOPOLIS MUNICIPAL AIRPORT, AL US       FM-15     KDYA    \n",
       "4     DEMOPOLIS MUNICIPAL AIRPORT, AL US       FM-15     KDYA    \n",
       "...                                  ...         ...       ...   \n",
       "6781  DEMOPOLIS MUNICIPAL AIRPORT, AL US       FM-15     KDYA    \n",
       "6782  DEMOPOLIS MUNICIPAL AIRPORT, AL US       FM-15     KDYA    \n",
       "6783  DEMOPOLIS MUNICIPAL AIRPORT, AL US       FM-15     KDYA    \n",
       "6784  DEMOPOLIS MUNICIPAL AIRPORT, AL US       FM-15     KDYA    \n",
       "6785  DEMOPOLIS MUNICIPAL AIRPORT, AL US       FM-15     KDYA    \n",
       "\n",
       "     QUALITY_CONTROL  ...  GA2  GA3                GD1  GD2  GD3  \\\n",
       "0               V020  ...  NaN  NaN  0,99,1,+99999,9,9  NaN  NaN   \n",
       "1               V020  ...  NaN  NaN  0,99,1,+99999,9,9  NaN  NaN   \n",
       "2               V020  ...  NaN  NaN  0,99,1,+99999,9,9  NaN  NaN   \n",
       "3               V020  ...  NaN  NaN  0,99,1,+99999,9,9  NaN  NaN   \n",
       "4               V020  ...  NaN  NaN  0,99,1,+99999,9,9  NaN  NaN   \n",
       "...              ...  ...  ...  ...                ...  ...  ...   \n",
       "6781            V020  ...  NaN  NaN  0,99,1,+99999,9,9  NaN  NaN   \n",
       "6782            V020  ...  NaN  NaN  0,99,1,+99999,9,9  NaN  NaN   \n",
       "6783            V020  ...  NaN  NaN  0,99,1,+99999,9,9  NaN  NaN   \n",
       "6784            V020  ...  NaN  NaN  0,99,1,+99999,9,9  NaN  NaN   \n",
       "6785            V020  ...  NaN  NaN  0,99,1,+99999,9,9  NaN  NaN   \n",
       "\n",
       "                  MA1  MW1  OC1  \\\n",
       "0     10190,5,10149,5  NaN  NaN   \n",
       "1     10193,5,10152,5  NaN  NaN   \n",
       "2     10193,5,10152,5  NaN  NaN   \n",
       "3     10196,5,10155,5  NaN  NaN   \n",
       "4     10200,5,10159,5  NaN  NaN   \n",
       "...               ...  ...  ...   \n",
       "6781  10186,5,10145,5  NaN  NaN   \n",
       "6782  10183,5,10142,5  NaN  NaN   \n",
       "6783  10183,5,10142,5  NaN  NaN   \n",
       "6784  10179,5,10139,5  NaN  NaN   \n",
       "6785  10183,5,10142,5  NaN  NaN   \n",
       "\n",
       "                                                    REM               EQD  \n",
       "0     MET08312/31/24 23:15:02 METAR KDYA 010515Z 330...  R01  00817TMP028  \n",
       "1     MET08312/31/24 23:35:02 METAR KDYA 010535Z 330...               NaN  \n",
       "2     MET10512/31/24 23:55:02 METAR KDYA 010555Z 320...               NaN  \n",
       "3     MET08301/01/25 00:15:02 METAR KDYA 010615Z 290...               NaN  \n",
       "4     MET08301/01/25 00:35:02 METAR KDYA 010635Z 300...               NaN  \n",
       "...                                                 ...               ...  \n",
       "6781  MET08304/25/25 00:35:01 METAR KDYA 250635Z 000...               NaN  \n",
       "6782  MET08304/25/25 00:55:01 METAR KDYA 250655Z 000...               NaN  \n",
       "6783  MET08304/25/25 01:15:01 METAR KDYA 250715Z 000...               NaN  \n",
       "6784  MET08304/25/25 01:35:01 METAR KDYA 250735Z 150...               NaN  \n",
       "6785  MET08304/25/25 01:55:01 METAR KDYA 250755Z 000...               NaN  \n",
       "\n",
       "[6786 rows x 34 columns]"
      ]
     },
     "execution_count": 3,
     "metadata": {},
     "output_type": "execute_result"
    }
   ],
   "source": [
    "data"
   ]
  },
  {
   "cell_type": "code",
   "execution_count": 4,
   "id": "a22cd4d7-b61d-4728-9046-0d63bbe4b149",
   "metadata": {},
   "outputs": [
    {
     "name": "stdout",
     "output_type": "stream",
     "text": [
      "Index(['STATION', 'DATE', 'SOURCE', 'LATITUDE', 'LONGITUDE', 'ELEVATION',\n",
      "       'NAME', 'REPORT_TYPE', 'CALL_SIGN', 'QUALITY_CONTROL', 'WND', 'CIG',\n",
      "       'VIS', 'TMP', 'DEW', 'SLP', 'AT1', 'AT2', 'AT3', 'AT4', 'AT5', 'AU1',\n",
      "       'AW1', 'GA1', 'GA2', 'GA3', 'GD1', 'GD2', 'GD3', 'MA1', 'MW1', 'OC1',\n",
      "       'REM', 'EQD'],\n",
      "      dtype='object')\n"
     ]
    }
   ],
   "source": [
    "print(data.columns)"
   ]
  },
  {
   "cell_type": "markdown",
   "id": "2890ac40-4cac-4989-90b6-4408534136db",
   "metadata": {},
   "source": [
    "### Column\tDescription\n",
    "### STATION\tStation identifier (WMO/ICAO code or custom ID)\n",
    "### DATE\tTimestamp of the observation (usually UTC)\n",
    "### SOURCE\tData source (e.g., METAR, SYNOP)\n",
    "### LATITUDE\tStation latitude\n",
    "### LONGITUDE\tStation longitude\n",
    "#### ELEVATION\tStation elevation above sea level (in meters)\n",
    "### NAME\tStation name\n",
    "### REPORT_TYPE\tType of weather report (e.g., FM-12, FM-15)\n",
    "#### CALL_SIGN\tStation call sign (radio ID)\n",
    "#### QUALITY_CONTROL\tQuality control flags or method applied\n",
    "#### WND\tWind data (direction, speed, type, etc.)\n",
    "### CIG\tCeiling (cloud height)\n",
    "### VIS\tVisibility\n",
    "### TMP\tAir temperature (usually in tenths of °C)\n",
    "#### DEW\tDew point temperature\n",
    "### SLP\tSea level pressure\n",
    "### AT1–AT5\tAdditional temperature readings or atmospheric variables (instrument-specific)\n",
    "### AU1, AW1\tPossibly cloud amount/height or weather phenomena\n",
    "### GA1–GA3\tGround or surface condition indicators\n",
    "### GD1–GD3\tGround data (possibly snow depth, ground temp, etc.)\n",
    "### MA1\tMiscellaneous atmospheric measurement\n",
    "### MW1\tMeteorological wind-related parameter\n",
    "#### OC1\tOceanographic condition (if near coastal station)\n",
    "#### REM\tRemarks or notes (e.g., automated/manual, sensor flags)\n",
    "### EQD\tEarthquake data or event quality descriptor (rare)"
   ]
  },
  {
   "cell_type": "markdown",
   "id": "cbf84e68-3850-4992-aa8d-5a7dee1f5f17",
   "metadata": {},
   "source": [
    "# comparision both dataset \n",
    "# ✅ 1. ERA5 Single-Level Variables (Copernicus CDS) These are reanalysis data at global scale, hourly resolution:\n",
    "# ✅ 2. Station-Based Observational Dataset (likely from NOAA/ISD)"
   ]
  },
  {
   "cell_type": "markdown",
   "id": "603b748f-665c-4460-9986-693f34b55148",
   "metadata": {},
   "source": [
    "✅ 1. ERA5 Single-Level Variables (Copernicus CDS)\n",
    "These are reanalysis data at global scale, hourly resolution:\n",
    "\n",
    "\n",
    "Column Name\tDescription\n",
    "valid_time\tTimestamp (UTC)\n",
    "wind_u10 (east-west component)\tZonal wind at 10m above surface\n",
    "wind_v10 (north-south component)\tMeridional wind at 10m above surface\n",
    "dew_point_2m (K)\tDew point temperature at 2m\n",
    "temperature_2m (K)\tAir temperature at 2m\n",
    "mean_sea_level_pressure (Pa)\tMSL pressure\n",
    "sea_surface_temperature (K)\tSST (useful near coast or ocean)\n",
    "surface_pressure (Pa)\tActual surface pressure\n",
    "total_precipitation (mm)\tCumulative rainfall/snowfall\n",
    "mean_wave_direction (°)\tDirection of waves (for aviation over oceans)\n",
    "mean_wave_period (s)\tAverage time between waves\n",
    "significant_wave_height (m)\tAverage of highest third of waves\n",
    "These are ideal for modeling weather across regions, for example:\n",
    "\n",
    "Regional storm modeling\n",
    "\n",
    "Wind and turbulence prediction\n",
    "\n",
    "Training a global model\n",
    "\n",
    "✅ 2. Station-Based Observational Dataset (likely from NOAA/ISD)\n",
    "This includes real-world measurements from airport/station sensors, like:\n",
    "\n",
    "WND: actual observed wind speed & direction\n",
    "\n",
    "VIS: visibility\n",
    "\n",
    "CIG: ceiling (cloud base)\n",
    "\n",
    "TMP, DEW, SLP: core weather features\n",
    "\n",
    "These are best for localized aviation models, like:\n",
    "\n",
    "Runway visibility prediction\n",
    "\n",
    "Wind shear alerts\n",
    "\n",
    "Take-off/landing condition forecasts\n",
    "\n",
    "🔍 Which One Should You Use for Aviation Weather ML?\n",
    "\n",
    "Use Case\tBest Dataset\tWhy\n",
    "\n",
    "Real-time runway condition\tStation-based (NOAA-style)\tReal and hyperlocal\n",
    "\n",
    "General ML model training\tERA5 (CDS)\tComplete, consistent, no missing values\n",
    "\n",
    "Hybrid ML model (train on ERA5, fine-tune on station)\tBoth\tBest for accuracy and generalization\n",
    "\n",
    "\n",
    "🔧 Suggestion: Use ERA5 as input features, and station data as ground truth labels\n",
    "\n",
    "For example:\n",
    "\n",
    "\n",
    "Inputs: wind_u10, wind_v10, temperature_2m, pressure, dew_point_2m\n",
    "\n",
    "\n",
    "Labels: WND, VIS, CIG, etc. from station data\n",
    "\n",
    "\n",
    "This enables supervised learning, where you're teaching a model to map gridded ERA5 data to what actually happens at an airport.\n",
    "\n"
   ]
  },
  {
   "cell_type": "code",
   "execution_count": null,
   "id": "b85e8e50-385d-4e0b-99cb-c20eea5ea7af",
   "metadata": {},
   "outputs": [],
   "source": []
  }
 ],
 "metadata": {
  "kernelspec": {
   "display_name": "Python 3 (ipykernel)",
   "language": "python",
   "name": "python3"
  },
  "language_info": {
   "codemirror_mode": {
    "name": "ipython",
    "version": 3
   },
   "file_extension": ".py",
   "mimetype": "text/x-python",
   "name": "python",
   "nbconvert_exporter": "python",
   "pygments_lexer": "ipython3",
   "version": "3.12.4"
  }
 },
 "nbformat": 4,
 "nbformat_minor": 5
}
